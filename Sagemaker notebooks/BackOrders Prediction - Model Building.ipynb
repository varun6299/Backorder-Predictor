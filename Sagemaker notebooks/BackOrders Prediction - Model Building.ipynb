{
 "cells": [
  {
   "cell_type": "markdown",
   "id": "1ef5e1ec",
   "metadata": {},
   "source": [
    "## About the Topic\n",
    "A backorder is an item that is not in stock at the moment. The customer can still order it, but delivery will only happen once the stock has been replenished. This is different from a situation when a product is labeled as being “out-of-stock” on the web platform which means the customer can’t order the product. However, backorders can still be placed despite the product not being in stock at a given moment in time. However, this causes a lot of additional inventory costs and wait for the customers, which is undesirable.\n",
    "\n",
    "### Objective\n",
    "The aim is to create a prediction model largely to identify whether items could be going out of stock or on backorder. This will help us to keep adequate or surplus stock of those products in order to meet demands of customers and not lose sales opportunities.\n",
    "\n",
    "### Data Description\n",
    "The list of all features and explanation of certain features (only unknown or technical jargons) in the features given the dataset have been provided below :\n",
    "- **sku** : a stock keeping unit is a distinct type of item for sale, such as a product or service, and all attributes associated with the item type that distinguish it from other item types\n",
    "\n",
    "- **national_inv**: The present inventory level of the product\n",
    "\n",
    "- **lead_time** :  lead time in inventory management is the amount of time between when a purchase order is placed to replenish products and when the order is received in the warehouse. Order lead times can vary between suppliers; the more suppliers involved in the chain, the longer the lead time is likely to be.\n",
    "\n",
    "- **in_transit_qty** : In transit inventory, also called transportation inventory or goods in transit, is any good shipped by a seller but not yet received by a buyer\n",
    "\n",
    "- **forecast_3_month** : Forecasted sales of the product for the next 3 months.\n",
    "\n",
    "- **forecast_6_month** : Forecasted sales of the product for the next 6 months.\n",
    "\n",
    "- **forecast_9_month** : Forecasted sales of the product for the next 9 months.\n",
    "\n",
    "- **sales_1_month** : Actual Sales of the product in the last 1 month.\n",
    "\n",
    "- **sales_3_month** : Actual Sales of the product in the last 3 months.\n",
    "\n",
    "- **sales_6_month** : Actual Sales of the product in the last 6 months.\n",
    "\n",
    "- **sales_9_month** : Actual Sales of the product in the last 9 months.\n",
    "\n",
    "- **min_bank**: Minimum amount of stock recommended to have.\n",
    "\n",
    "- **potential_issue**: Any problem identified with the product or part.\n",
    "\n",
    "- **pieces_past_due** : Assumption - The stock items that have been kept in stock for long time, past their expected life span.\n",
    "\n",
    "- **perf_6_month_avg** : Average performance of product over last 6 months.\n",
    "\n",
    "- **perf_12_month_avg**: Average performance of product over last 12 months.\n",
    "\n",
    "- **local_bo_qty** : BO QTY in inventory managment refers to the Back Order Quantity. To find Back Order Quantity, divide the number of undeliverable orders by the total number of orders and multiply the result by 100.\n",
    "\n",
    "- **deck_risk** : Assumption - It is the risk associated with keeping the items in stock and could relate to damage, shelf life, theft, etc. \n",
    "- oe_constraint\n",
    "- **ppap_risk** : Short for Production Part Approval Process, it is a risk reduction process which is used as a risk classification and qualification process which is used to determine whether a production run will produce parts with consistency and repeatability. It is done prior to product release\n",
    "- **stop_auto_buy** : Has the auto buy for the product, which was back ordered, cancelled.\n",
    "- rev_stop\n",
    "\n",
    "**TARGET FEATURE** : went_on_backorder - Whether an items was backordered or not"
   ]
  },
  {
   "cell_type": "markdown",
   "id": "9bdb9fd6",
   "metadata": {},
   "source": [
    "### Setting the Logger"
   ]
  },
  {
   "cell_type": "code",
   "execution_count": 207,
   "id": "e9ddf482",
   "metadata": {},
   "outputs": [
    {
     "name": "stderr",
     "output_type": "stream",
     "text": [
      "2021-10-04 08:37:17 INFO-New file\n",
      "2021-10-04 08:37:17 INFO-New file\n",
      "2021-10-04 08:37:17 INFO-New file\n",
      "2021-10-04 08:37:17 INFO-New file\n"
     ]
    }
   ],
   "source": [
    "import logging\n",
    "\n",
    "logger = logging.getLogger()\n",
    "logger.setLevel(logging.INFO)\n",
    "\n",
    "fileHandler = logging.FileHandler(\"Logging.txt\")\n",
    "fileHandler.setLevel(logging.INFO)\n",
    "\n",
    "consoleHandler = logging.StreamHandler()\n",
    "consoleHandler.setLevel(logging.INFO)\n",
    "\n",
    "formatter = logging.Formatter('%(asctime)s %(levelname)s-%(message)s',datefmt='%Y-%m-%d %H:%M:%S')\n",
    "\n",
    "fileHandler.setFormatter(formatter)\n",
    "consoleHandler.setFormatter(formatter)\n",
    "\n",
    "logger.addHandler(fileHandler)\n",
    "logger.addHandler(consoleHandler)\n",
    "\n",
    "logger.info(\"New file\")"
   ]
  },
  {
   "cell_type": "markdown",
   "id": "466949d0",
   "metadata": {},
   "source": [
    "### Importing the Pre-requisite Packages"
   ]
  },
  {
   "cell_type": "code",
   "execution_count": 208,
   "id": "6c8dadae",
   "metadata": {},
   "outputs": [
    {
     "name": "stderr",
     "output_type": "stream",
     "text": [
      "2021-10-04 08:37:17 INFO-All pre-requisite packages imported For Model Building\n",
      "2021-10-04 08:37:17 INFO-All pre-requisite packages imported For Model Building\n",
      "2021-10-04 08:37:17 INFO-All pre-requisite packages imported For Model Building\n",
      "2021-10-04 08:37:17 INFO-All pre-requisite packages imported For Model Building\n"
     ]
    }
   ],
   "source": [
    "# import sagemaker\n",
    "# import boto3\n",
    "# from sagemaker.amazon.amazon_estimator import logging, get_image_uri\n",
    "# from sagemaker.session import s3_input,Session\n",
    "\n",
    "import pandas as pd\n",
    "import numpy as np\n",
    "import seaborn as sns\n",
    "import matplotlib.pyplot as plt\n",
    "import plotly.express as exp\n",
    "import warnings\n",
    "warnings.filterwarnings('ignore')\n",
    "logger.info(\"All pre-requisite packages imported For Model Building\")"
   ]
  },
  {
   "cell_type": "markdown",
   "id": "a9ed0279",
   "metadata": {},
   "source": [
    "# Data Preparation"
   ]
  },
  {
   "cell_type": "code",
   "execution_count": 209,
   "id": "6225ea4f",
   "metadata": {},
   "outputs": [
    {
     "name": "stderr",
     "output_type": "stream",
     "text": [
      "2021-10-04 08:37:17 INFO-Train and Test Samples Imported\n",
      "2021-10-04 08:37:17 INFO-Train and Test Samples Imported\n",
      "2021-10-04 08:37:17 INFO-Train and Test Samples Imported\n",
      "2021-10-04 08:37:17 INFO-Train and Test Samples Imported\n"
     ]
    }
   ],
   "source": [
    "\n",
    "xtrain = pd.read_csv(\"xtrain.csv\")\n",
    "xtest = pd.read_csv(\"xtest.csv\")\n",
    "ytrain = pd.read_csv(\"ytrain.csv\")\n",
    "ytest = pd.read_csv(\"ytest.csv\")\n",
    "logger.info(\"Train and Test Samples Imported\")"
   ]
  },
  {
   "cell_type": "code",
   "execution_count": 210,
   "id": "581ffdfa",
   "metadata": {},
   "outputs": [],
   "source": [
    "xtrain.drop([\"Unnamed: 0\"],axis=1,inplace=True)\n",
    "xtest.drop([\"Unnamed: 0\"],axis=1,inplace=True)\n",
    "ytrain.drop([\"Unnamed: 0\"],axis=1,inplace=True)\n",
    "ytest.drop([\"Unnamed: 0\"],axis=1,inplace=True)\n"
   ]
  },
  {
   "cell_type": "code",
   "execution_count": 211,
   "id": "a97aa11e",
   "metadata": {},
   "outputs": [],
   "source": [
    "from sklearn.preprocessing import StandardScaler"
   ]
  },
  {
   "cell_type": "markdown",
   "id": "a9b4f615",
   "metadata": {},
   "source": [
    "# Building ML Models"
   ]
  },
  {
   "cell_type": "code",
   "execution_count": 212,
   "id": "486261eb",
   "metadata": {},
   "outputs": [
    {
     "name": "stderr",
     "output_type": "stream",
     "text": [
      "2021-10-04 08:37:17 INFO-Building Baseline\n",
      "2021-10-04 08:37:17 INFO-Building Baseline\n",
      "2021-10-04 08:37:17 INFO-Building Baseline\n",
      "2021-10-04 08:37:17 INFO-Building Baseline\n"
     ]
    }
   ],
   "source": [
    "logger.info(\"Building Baseline\")"
   ]
  },
  {
   "cell_type": "code",
   "execution_count": 213,
   "id": "cfc94c09",
   "metadata": {},
   "outputs": [
    {
     "name": "stderr",
     "output_type": "stream",
     "text": [
      "2021-10-04 08:37:17 INFO-Imported required functions for building models, evaluation and further model tuning\n",
      "2021-10-04 08:37:17 INFO-Imported required functions for building models, evaluation and further model tuning\n",
      "2021-10-04 08:37:17 INFO-Imported required functions for building models, evaluation and further model tuning\n",
      "2021-10-04 08:37:17 INFO-Imported required functions for building models, evaluation and further model tuning\n"
     ]
    }
   ],
   "source": [
    "## Importing Required functions for model building\n",
    "import pickle\n",
    "\n",
    "from sklearn.preprocessing import StandardScaler\n",
    "\n",
    "from sklearn.linear_model import LogisticRegression\n",
    "from sklearn.tree import DecisionTreeClassifier\n",
    "from sklearn.svm import SVC\n",
    "from sklearn.neighbors import KNeighborsClassifier\n",
    "from sklearn.ensemble import RandomForestClassifier,AdaBoostClassifier,GradientBoostingClassifier\n",
    "\n",
    "from sklearn.metrics import f1_score,accuracy_score,recall_score,classification_report,confusion_matrix,roc_auc_score,roc_curve\n",
    "\n",
    "from sklearn.model_selection import cross_val_score, GridSearchCV\n",
    "\n",
    "import datetime\n",
    "\n",
    "logger.info(\"Imported required functions for building models, evaluation and further model tuning\")"
   ]
  },
  {
   "cell_type": "code",
   "execution_count": 214,
   "id": "9339943d",
   "metadata": {},
   "outputs": [
    {
     "name": "stdout",
     "output_type": "stream",
     "text": [
      "Requirement already satisfied: xgboost in /home/ec2-user/anaconda3/envs/python3/lib/python3.6/site-packages (1.4.2)\r\n",
      "Requirement already satisfied: numpy in /home/ec2-user/anaconda3/envs/python3/lib/python3.6/site-packages (from xgboost) (1.19.5)\r\n",
      "Requirement already satisfied: scipy in /home/ec2-user/anaconda3/envs/python3/lib/python3.6/site-packages (from xgboost) (1.5.3)\r\n"
     ]
    }
   ],
   "source": [
    "!pip install xgboost"
   ]
  },
  {
   "cell_type": "code",
   "execution_count": 215,
   "id": "e5df34c9",
   "metadata": {},
   "outputs": [],
   "source": [
    "from xgboost import XGBClassifier"
   ]
  },
  {
   "cell_type": "code",
   "execution_count": 216,
   "id": "92b6bb0f",
   "metadata": {},
   "outputs": [],
   "source": [
    "nums = ['national_inv', 'lead_time', 'in_transit_qty', 'forecast_6_month',\n",
    "       'sales_6_month', 'min_bank', 'pieces_past_due', 'perf_6_month_avg',\n",
    "       'local_bo_qty']"
   ]
  },
  {
   "cell_type": "code",
   "execution_count": 217,
   "id": "0fad04ec",
   "metadata": {},
   "outputs": [],
   "source": [
    "baseline_results = pd.DataFrame({\"Model\":None,\"Train F1 score\":None,\"Test F1\":None,\"ROC-AUC\":None,\"CV F1 average\":None,\"CV F1 std average\":None,\"Model Latency for 1 unit\":None},index=range(1))"
   ]
  },
  {
   "cell_type": "code",
   "execution_count": 218,
   "id": "149afb90",
   "metadata": {},
   "outputs": [
    {
     "name": "stderr",
     "output_type": "stream",
     "text": [
      "2021-10-04 08:37:20 INFO-Function Built to create and run baseline models\n",
      "2021-10-04 08:37:20 INFO-Function Built to create and run baseline models\n",
      "2021-10-04 08:37:20 INFO-Function Built to create and run baseline models\n",
      "2021-10-04 08:37:20 INFO-Function Built to create and run baseline models\n"
     ]
    }
   ],
   "source": [
    "def build_baseline_model(estimator,x_training,y_training,x_testing,y_testing,scaling=False,num_cols = None):\n",
    "    \n",
    "    \"\"\"\n",
    "    Creates a ML Model for given estimator and train sample and tests on test sample. Performs cross validation too. Uses f1 score for evaluation.\n",
    "    \n",
    "    Note - It is assumed that missing values treatment, outlier treatment, transformation and encoding have already been performed.\n",
    "    \n",
    "    Arguments - \n",
    "    \n",
    "    1. num_cols : A list of numerical features in the dataset. If not passed, function will try to find numerical features\n",
    "    \n",
    "    \"\"\"\n",
    "    if str(f\"{estimator}\").replace(\"()\",\"\") == \"XGBClassifier\":\n",
    "        model_str = \"XGBClassifier\"\n",
    "    else:\n",
    "        model_str = str(f\"{estimator}\").replace(\"()\",\"\")\n",
    "    \n",
    "    \n",
    "    if num_cols == None:\n",
    "        nums_cols = list(x_training.select_dtypes(include=np.object).columns)\n",
    "    \n",
    "    \n",
    "    if scaling == True:\n",
    "        from sklearn.preprocessing import StandardScaler\n",
    "        SC = StandardScaler().fit(x_training[list(num_cols)])\n",
    "        x_training[list(nums)] = SC.transform(x_training[list(num_cols)])\n",
    "        x_testing[list(nums)] = SC.transform(x_testing[list(num_cols)])\n",
    "    \n",
    "    ## Training the model and calculating f1 scores on train and test along with cross validation scores\n",
    "    \n",
    "    try:\n",
    "        \n",
    "        model = estimator.fit(x_training,y_training)\n",
    "        train_pred = model.predict(x_training)\n",
    "        logger.info(f\"Training {model_str} Model complete\")\n",
    "        test_pred = model.predict(x_testing)\n",
    "        cv = cross_val_score(estimator,x_training,y_training,scoring=\"f1\",cv=3)\n",
    "        train_f1 = f1_score(y_training,train_pred)\n",
    "        test_f1 = f1_score(y_testing,test_pred)\n",
    "        cv_mean = cv.mean()\n",
    "        cv_std = cv.std()\n",
    "\n",
    "        ## Model Latency for 1 unit in seconds\n",
    "        start = datetime.datetime.now()\n",
    "        model.predict(x_training.iloc[0].values.reshape(1,-1))\n",
    "        end = datetime.datetime.now()\n",
    "        latency = (end.microsecond - start.microsecond) / 1000000\n",
    "    \n",
    "\n",
    "        ## Calculating ROC AUC Score\n",
    "        test_pred_prob = model.predict_proba(x_testing)[:,1]\n",
    "        roc = roc_auc_score(y_testing,test_pred_prob)\n",
    "\n",
    "    \n",
    "        ## Appending results to model performance table\n",
    "    \n",
    "        try:\n",
    "            global baseline_results \n",
    "    \n",
    "            baseline_results = baseline_results.append({\"Model\":model_str,\"Train F1 score\":train_f1,\"Test F1\":test_f1,\"ROC-AUC\":roc,\"CV F1 average\":cv_mean,\"CV F1 std average\":cv_std,\"Model Latency for 1 unit\":latency},ignore_index=True)\n",
    "        except NameError:\n",
    "            print(\"Baseline results table not defined\")\n",
    "    \n",
    "        ## Displaying results\n",
    "        print(f\"Model Performance - {model_str}\")\n",
    "    \n",
    "        print(\"Train Result:\",classification_report(y_training,train_pred),sep=\"\\n\")\n",
    "        print()\n",
    "        print(f\"Average f1 Score: {cv_mean}\",f\"Average Std in F1 score: {cv_std}\",sep=\"\\n\")\n",
    "        print()\n",
    "        print(\"Test Result:\",classification_report(y_testing,test_pred),sep=\"\\n\")\n",
    "\n",
    "        fpr,tpr,thres = roc_curve(y_testing,test_pred_prob)\n",
    "        plt.plot(fpr,tpr)\n",
    "        plt.fill_between(fpr,tpr,alpha=0.3)\n",
    "        plt.title(f\"AUC Curve for {model_str} \\nROC-AUC Score: {roc}\",size=15)\n",
    "        plt.xlabel(\"False Positive Rate\")\n",
    "        plt.ylabel(\"True Positive Rate\")\n",
    "        plt.show()\n",
    "        print(\"\",\"Model training and testing completed\",\"\",sep=\"\\n\")\n",
    "        \n",
    "    except NameError:\n",
    "        print(\"Either the estimator or one or more of the samples are not defined or loaded\")\n",
    "        logging.error(f\"Either the {model_str} estimator or one or more of the samples are not defined or loaded\")\n",
    "    else:\n",
    "        print(\"Function End Reached\")\n",
    "\n",
    "logger.info(\"Function Built to create and run baseline models\")"
   ]
  },
  {
   "cell_type": "markdown",
   "id": "a172476e",
   "metadata": {},
   "source": [
    "### Logistic Regression"
   ]
  },
  {
   "cell_type": "code",
   "execution_count": 219,
   "id": "81852011",
   "metadata": {},
   "outputs": [
    {
     "name": "stderr",
     "output_type": "stream",
     "text": [
      "2021-10-04 08:37:20 INFO-Training LogisticRegression Model complete\n",
      "2021-10-04 08:37:20 INFO-Training LogisticRegression Model complete\n",
      "2021-10-04 08:37:20 INFO-Training LogisticRegression Model complete\n",
      "2021-10-04 08:37:20 INFO-Training LogisticRegression Model complete\n"
     ]
    },
    {
     "name": "stdout",
     "output_type": "stream",
     "text": [
      "Model Performance - LogisticRegression\n",
      "Train Result:\n",
      "              precision    recall  f1-score   support\n",
      "\n",
      "           0       0.97      0.99      0.98     31620\n",
      "           1       0.94      0.86      0.90      7905\n",
      "\n",
      "    accuracy                           0.96     39525\n",
      "   macro avg       0.95      0.92      0.94     39525\n",
      "weighted avg       0.96      0.96      0.96     39525\n",
      "\n",
      "\n",
      "Average f1 Score: 0.8996523040393795\n",
      "Average Std in F1 score: 0.004315186203745989\n",
      "\n",
      "Test Result:\n",
      "              precision    recall  f1-score   support\n",
      "\n",
      "           0       0.96      0.99      0.97     13552\n",
      "           1       0.94      0.86      0.89      3388\n",
      "\n",
      "    accuracy                           0.96     16940\n",
      "   macro avg       0.95      0.92      0.93     16940\n",
      "weighted avg       0.96      0.96      0.96     16940\n",
      "\n"
     ]
    },
    {
     "data": {
      "image/png": "[encoded data removed]",
      "text/plain": [
       "<Figure size 432x288 with 1 Axes>"
      ]
     },
     "metadata": {
      "needs_background": "light"
     },
     "output_type": "display_data"
    },
    {
     "name": "stdout",
     "output_type": "stream",
     "text": [
      "\n",
      "Model training and testing completed\n",
      "\n",
      "Function End Reached\n"
     ]
    }
   ],
   "source": [
    "build_baseline_model(LogisticRegression(),xtrain,ytrain,xtest,ytest,num_cols=nums)"
   ]
  },
  {
   "cell_type": "markdown",
   "id": "323d93d6",
   "metadata": {},
   "source": [
    "### K Neighbors Classifier"
   ]
  },
  {
   "cell_type": "code",
   "execution_count": 220,
   "id": "1265d1d1",
   "metadata": {},
   "outputs": [
    {
     "name": "stderr",
     "output_type": "stream",
     "text": [
      "2021-10-04 08:37:34 INFO-Training KNeighborsClassifier Model complete\n",
      "2021-10-04 08:37:34 INFO-Training KNeighborsClassifier Model complete\n",
      "2021-10-04 08:37:34 INFO-Training KNeighborsClassifier Model complete\n",
      "2021-10-04 08:37:34 INFO-Training KNeighborsClassifier Model complete\n"
     ]
    },
    {
     "name": "stdout",
     "output_type": "stream",
     "text": [
      "Model Performance - KNeighborsClassifier\n",
      "Train Result:\n",
      "              precision    recall  f1-score   support\n",
      "\n",
      "           0       0.98      1.00      0.99     31620\n",
      "           1       0.98      0.93      0.96      7905\n",
      "\n",
      "    accuracy                           0.98     39525\n",
      "   macro avg       0.98      0.96      0.97     39525\n",
      "weighted avg       0.98      0.98      0.98     39525\n",
      "\n",
      "\n",
      "Average f1 Score: 0.9344049185703934\n",
      "Average Std in F1 score: 0.0020093650578765975\n",
      "\n",
      "Test Result:\n",
      "              precision    recall  f1-score   support\n",
      "\n",
      "           0       0.98      0.99      0.99     13552\n",
      "           1       0.97      0.91      0.94      3388\n",
      "\n",
      "    accuracy                           0.98     16940\n",
      "   macro avg       0.97      0.95      0.96     16940\n",
      "weighted avg       0.98      0.98      0.98     16940\n",
      "\n"
     ]
    },
    {
     "data": {
      "image/png": "[encoded data removed]",
      "text/plain": [
       "<Figure size 432x288 with 1 Axes>"
      ]
     },
     "metadata": {
      "needs_background": "light"
     },
     "output_type": "display_data"
    },
    {
     "name": "stdout",
     "output_type": "stream",
     "text": [
      "\n",
      "Model training and testing completed\n",
      "\n",
      "Function End Reached\n"
     ]
    }
   ],
   "source": [
    "build_baseline_model(KNeighborsClassifier(),xtrain,ytrain,xtest,ytest,num_cols=nums,scaling=True)"
   ]
  },
  {
   "cell_type": "markdown",
   "id": "61763876",
   "metadata": {},
   "source": [
    "### Decision Tree"
   ]
  },
  {
   "cell_type": "code",
   "execution_count": 221,
   "id": "e4578e6f",
   "metadata": {},
   "outputs": [
    {
     "name": "stderr",
     "output_type": "stream",
     "text": [
      "2021-10-04 08:37:54 INFO-Training DecisionTreeClassifier(random_state=0) Model complete\n",
      "2021-10-04 08:37:54 INFO-Training DecisionTreeClassifier(random_state=0) Model complete\n",
      "2021-10-04 08:37:54 INFO-Training DecisionTreeClassifier(random_state=0) Model complete\n",
      "2021-10-04 08:37:54 INFO-Training DecisionTreeClassifier(random_state=0) Model complete\n"
     ]
    },
    {
     "name": "stdout",
     "output_type": "stream",
     "text": [
      "Model Performance - DecisionTreeClassifier(random_state=0)\n",
      "Train Result:\n",
      "              precision    recall  f1-score   support\n",
      "\n",
      "           0       0.99      1.00      0.99     31620\n",
      "           1       0.99      0.94      0.97      7905\n",
      "\n",
      "    accuracy                           0.99     39525\n",
      "   macro avg       0.99      0.97      0.98     39525\n",
      "weighted avg       0.99      0.99      0.99     39525\n",
      "\n",
      "\n",
      "Average f1 Score: 0.9456713118113521\n",
      "Average Std in F1 score: 0.003544866508632765\n",
      "\n",
      "Test Result:\n",
      "              precision    recall  f1-score   support\n",
      "\n",
      "           0       0.98      1.00      0.99     13552\n",
      "           1       0.99      0.91      0.95      3388\n",
      "\n",
      "    accuracy                           0.98     16940\n",
      "   macro avg       0.98      0.95      0.97     16940\n",
      "weighted avg       0.98      0.98      0.98     16940\n",
      "\n"
     ]
    },
    {
     "data": {
      "image/png": "[encoded data removed]",
      "text/plain": [
       "<Figure size 432x288 with 1 Axes>"
      ]
     },
     "metadata": {
      "needs_background": "light"
     },
     "output_type": "display_data"
    },
    {
     "name": "stdout",
     "output_type": "stream",
     "text": [
      "\n",
      "Model training and testing completed\n",
      "\n",
      "Function End Reached\n"
     ]
    }
   ],
   "source": [
    "build_baseline_model(DecisionTreeClassifier(random_state=0),xtrain,ytrain,xtest,ytest,num_cols=nums)"
   ]
  },
  {
   "cell_type": "markdown",
   "id": "31d6c755",
   "metadata": {},
   "source": [
    "### Support Vector Machine"
   ]
  },
  {
   "cell_type": "code",
   "execution_count": 222,
   "id": "2b10e2ec",
   "metadata": {},
   "outputs": [
    {
     "name": "stderr",
     "output_type": "stream",
     "text": [
      "2021-10-04 08:39:29 INFO-Training SVC(probability=True) Model complete\n",
      "2021-10-04 08:39:29 INFO-Training SVC(probability=True) Model complete\n",
      "2021-10-04 08:39:29 INFO-Training SVC(probability=True) Model complete\n",
      "2021-10-04 08:39:29 INFO-Training SVC(probability=True) Model complete\n"
     ]
    },
    {
     "name": "stdout",
     "output_type": "stream",
     "text": [
      "Model Performance - SVC(probability=True)\n",
      "Train Result:\n",
      "              precision    recall  f1-score   support\n",
      "\n",
      "           0       0.97      0.99      0.98     31620\n",
      "           1       0.96      0.88      0.92      7905\n",
      "\n",
      "    accuracy                           0.97     39525\n",
      "   macro avg       0.97      0.94      0.95     39525\n",
      "weighted avg       0.97      0.97      0.97     39525\n",
      "\n",
      "\n",
      "Average f1 Score: 0.9172595674815912\n",
      "Average Std in F1 score: 0.0026264672035209804\n",
      "\n",
      "Test Result:\n",
      "              precision    recall  f1-score   support\n",
      "\n",
      "           0       0.97      0.99      0.98     13552\n",
      "           1       0.96      0.88      0.92      3388\n",
      "\n",
      "    accuracy                           0.97     16940\n",
      "   macro avg       0.96      0.93      0.95     16940\n",
      "weighted avg       0.97      0.97      0.97     16940\n",
      "\n"
     ]
    },
    {
     "data": {
      "image/png": "[encoded data removed]",
      "text/plain": [
       "<Figure size 432x288 with 1 Axes>"
      ]
     },
     "metadata": {
      "needs_background": "light"
     },
     "output_type": "display_data"
    },
    {
     "name": "stdout",
     "output_type": "stream",
     "text": [
      "\n",
      "Model training and testing completed\n",
      "\n",
      "Function End Reached\n"
     ]
    }
   ],
   "source": [
    "build_baseline_model(SVC(probability=True),xtrain,ytrain,xtest,ytest,num_cols=nums)"
   ]
  },
  {
   "cell_type": "markdown",
   "id": "8d4ed127",
   "metadata": {},
   "source": [
    "### Random Forest Classifier"
   ]
  },
  {
   "cell_type": "code",
   "execution_count": 223,
   "id": "8fcec2a0",
   "metadata": {},
   "outputs": [
    {
     "name": "stderr",
     "output_type": "stream",
     "text": [
      "2021-10-04 08:41:35 INFO-Training RandomForestClassifier(random_state=0) Model complete\n",
      "2021-10-04 08:41:35 INFO-Training RandomForestClassifier(random_state=0) Model complete\n",
      "2021-10-04 08:41:35 INFO-Training RandomForestClassifier(random_state=0) Model complete\n",
      "2021-10-04 08:41:35 INFO-Training RandomForestClassifier(random_state=0) Model complete\n"
     ]
    },
    {
     "name": "stdout",
     "output_type": "stream",
     "text": [
      "Model Performance - RandomForestClassifier(random_state=0)\n",
      "Train Result:\n",
      "              precision    recall  f1-score   support\n",
      "\n",
      "           0       0.99      1.00      0.99     31620\n",
      "           1       0.99      0.95      0.97      7905\n",
      "\n",
      "    accuracy                           0.99     39525\n",
      "   macro avg       0.99      0.97      0.98     39525\n",
      "weighted avg       0.99      0.99      0.99     39525\n",
      "\n",
      "\n",
      "Average f1 Score: 0.9514922313474065\n",
      "Average Std in F1 score: 0.0023460279914436014\n",
      "\n",
      "Test Result:\n",
      "              precision    recall  f1-score   support\n",
      "\n",
      "           0       0.98      1.00      0.99     13552\n",
      "           1       0.98      0.93      0.95      3388\n",
      "\n",
      "    accuracy                           0.98     16940\n",
      "   macro avg       0.98      0.96      0.97     16940\n",
      "weighted avg       0.98      0.98      0.98     16940\n",
      "\n"
     ]
    },
    {
     "data": {
      "image/png": "[encoded data removed]",
      "text/plain": [
       "<Figure size 432x288 with 1 Axes>"
      ]
     },
     "metadata": {
      "needs_background": "light"
     },
     "output_type": "display_data"
    },
    {
     "name": "stdout",
     "output_type": "stream",
     "text": [
      "\n",
      "Model training and testing completed\n",
      "\n",
      "Function End Reached\n"
     ]
    }
   ],
   "source": [
    "build_baseline_model(RandomForestClassifier(random_state=0),xtrain,ytrain,xtest,ytest,num_cols=nums)"
   ]
  },
  {
   "cell_type": "markdown",
   "id": "aa90b344",
   "metadata": {},
   "source": [
    "### Ada Boost Classifier"
   ]
  },
  {
   "cell_type": "code",
   "execution_count": 224,
   "id": "bf336868",
   "metadata": {},
   "outputs": [
    {
     "name": "stderr",
     "output_type": "stream",
     "text": [
      "2021-10-04 08:41:42 INFO-Training AdaBoostClassifier(random_state=0) Model complete\n",
      "2021-10-04 08:41:42 INFO-Training AdaBoostClassifier(random_state=0) Model complete\n",
      "2021-10-04 08:41:42 INFO-Training AdaBoostClassifier(random_state=0) Model complete\n",
      "2021-10-04 08:41:42 INFO-Training AdaBoostClassifier(random_state=0) Model complete\n"
     ]
    },
    {
     "name": "stdout",
     "output_type": "stream",
     "text": [
      "Model Performance - AdaBoostClassifier(random_state=0)\n",
      "Train Result:\n",
      "              precision    recall  f1-score   support\n",
      "\n",
      "           0       0.97      0.99      0.98     31620\n",
      "           1       0.94      0.89      0.92      7905\n",
      "\n",
      "    accuracy                           0.97     39525\n",
      "   macro avg       0.96      0.94      0.95     39525\n",
      "weighted avg       0.97      0.97      0.97     39525\n",
      "\n",
      "\n",
      "Average f1 Score: 0.9168103999299508\n",
      "Average Std in F1 score: 0.004832387417025825\n",
      "\n",
      "Test Result:\n",
      "              precision    recall  f1-score   support\n",
      "\n",
      "           0       0.97      0.99      0.98     13552\n",
      "           1       0.94      0.89      0.91      3388\n",
      "\n",
      "    accuracy                           0.97     16940\n",
      "   macro avg       0.96      0.94      0.95     16940\n",
      "weighted avg       0.97      0.97      0.97     16940\n",
      "\n"
     ]
    },
    {
     "data": {
      "image/png": "[encoded data removed]",
      "text/plain": [
       "<Figure size 432x288 with 1 Axes>"
      ]
     },
     "metadata": {
      "needs_background": "light"
     },
     "output_type": "display_data"
    },
    {
     "name": "stdout",
     "output_type": "stream",
     "text": [
      "\n",
      "Model training and testing completed\n",
      "\n",
      "Function End Reached\n"
     ]
    }
   ],
   "source": [
    "build_baseline_model(AdaBoostClassifier(random_state=0),xtrain,ytrain,xtest,ytest,num_cols=nums)"
   ]
  },
  {
   "cell_type": "markdown",
   "id": "350cfe15",
   "metadata": {},
   "source": [
    "### Gradient Boosting Classifier"
   ]
  },
  {
   "cell_type": "code",
   "execution_count": 225,
   "id": "431b7e86",
   "metadata": {},
   "outputs": [
    {
     "name": "stderr",
     "output_type": "stream",
     "text": [
      "2021-10-04 08:41:47 INFO-Training GradientBoostingClassifier(random_state=0) Model complete\n",
      "2021-10-04 08:41:47 INFO-Training GradientBoostingClassifier(random_state=0) Model complete\n",
      "2021-10-04 08:41:47 INFO-Training GradientBoostingClassifier(random_state=0) Model complete\n",
      "2021-10-04 08:41:47 INFO-Training GradientBoostingClassifier(random_state=0) Model complete\n"
     ]
    },
    {
     "name": "stdout",
     "output_type": "stream",
     "text": [
      "Model Performance - GradientBoostingClassifier(random_state=0)\n",
      "Train Result:\n",
      "              precision    recall  f1-score   support\n",
      "\n",
      "           0       0.98      0.99      0.98     31620\n",
      "           1       0.96      0.91      0.93      7905\n",
      "\n",
      "    accuracy                           0.97     39525\n",
      "   macro avg       0.97      0.95      0.96     39525\n",
      "weighted avg       0.97      0.97      0.97     39525\n",
      "\n",
      "\n",
      "Average f1 Score: 0.9313836156372112\n",
      "Average Std in F1 score: 0.0018065136545790646\n",
      "\n",
      "Test Result:\n",
      "              precision    recall  f1-score   support\n",
      "\n",
      "           0       0.98      0.99      0.98     13552\n",
      "           1       0.96      0.90      0.93      3388\n",
      "\n",
      "    accuracy                           0.97     16940\n",
      "   macro avg       0.97      0.95      0.96     16940\n",
      "weighted avg       0.97      0.97      0.97     16940\n",
      "\n"
     ]
    },
    {
     "data": {
      "image/png": "[encoded data removed]",
      "text/plain": [
       "<Figure size 432x288 with 1 Axes>"
      ]
     },
     "metadata": {
      "needs_background": "light"
     },
     "output_type": "display_data"
    },
    {
     "name": "stdout",
     "output_type": "stream",
     "text": [
      "\n",
      "Model training and testing completed\n",
      "\n",
      "Function End Reached\n"
     ]
    }
   ],
   "source": [
    "build_baseline_model(GradientBoostingClassifier(random_state=0),xtrain,ytrain,xtest,ytest,num_cols=nums)"
   ]
  },
  {
   "cell_type": "markdown",
   "id": "1f2dce9b",
   "metadata": {},
   "source": [
    "### XGB Classifier"
   ]
  },
  {
   "cell_type": "code",
   "execution_count": 226,
   "id": "250cc5ad",
   "metadata": {},
   "outputs": [
    {
     "name": "stdout",
     "output_type": "stream",
     "text": [
      "[08:41:52] WARNING: ../src/learner.cc:1095: Starting in XGBoost 1.3.0, the default evaluation metric used with the objective 'binary:logistic' was changed from 'error' to 'logloss'. Explicitly set eval_metric if you'd like to restore the old behavior.\n"
     ]
    },
    {
     "name": "stderr",
     "output_type": "stream",
     "text": [
      "2021-10-04 08:41:54 INFO-Training XGBClassifier(base_score=None, booster=None, colsample_bylevel=None,\n",
      "              colsample_bynode=None, colsample_bytree=None, gamma=None,\n",
      "              gpu_id=None, importance_type='gain', interaction_constraints=None,\n",
      "              learning_rate=None, max_delta_step=None, max_depth=None,\n",
      "              min_child_weight=None, missing=nan, monotone_constraints=None,\n",
      "              n_estimators=100, n_jobs=None, num_parallel_tree=None,\n",
      "              random_state=None, reg_alpha=None, reg_lambda=None,\n",
      "              scale_pos_weight=None, subsample=None, tree_method=None,\n",
      "              validate_parameters=None, verbosity=None) Model complete\n",
      "2021-10-04 08:41:54 INFO-Training XGBClassifier(base_score=None, booster=None, colsample_bylevel=None,\n",
      "              colsample_bynode=None, colsample_bytree=None, gamma=None,\n",
      "              gpu_id=None, importance_type='gain', interaction_constraints=None,\n",
      "              learning_rate=None, max_delta_step=None, max_depth=None,\n",
      "              min_child_weight=None, missing=nan, monotone_constraints=None,\n",
      "              n_estimators=100, n_jobs=None, num_parallel_tree=None,\n",
      "              random_state=None, reg_alpha=None, reg_lambda=None,\n",
      "              scale_pos_weight=None, subsample=None, tree_method=None,\n",
      "              validate_parameters=None, verbosity=None) Model complete\n",
      "2021-10-04 08:41:54 INFO-Training XGBClassifier(base_score=None, booster=None, colsample_bylevel=None,\n",
      "              colsample_bynode=None, colsample_bytree=None, gamma=None,\n",
      "              gpu_id=None, importance_type='gain', interaction_constraints=None,\n",
      "              learning_rate=None, max_delta_step=None, max_depth=None,\n",
      "              min_child_weight=None, missing=nan, monotone_constraints=None,\n",
      "              n_estimators=100, n_jobs=None, num_parallel_tree=None,\n",
      "              random_state=None, reg_alpha=None, reg_lambda=None,\n",
      "              scale_pos_weight=None, subsample=None, tree_method=None,\n",
      "              validate_parameters=None, verbosity=None) Model complete\n",
      "2021-10-04 08:41:54 INFO-Training XGBClassifier(base_score=None, booster=None, colsample_bylevel=None,\n",
      "              colsample_bynode=None, colsample_bytree=None, gamma=None,\n",
      "              gpu_id=None, importance_type='gain', interaction_constraints=None,\n",
      "              learning_rate=None, max_delta_step=None, max_depth=None,\n",
      "              min_child_weight=None, missing=nan, monotone_constraints=None,\n",
      "              n_estimators=100, n_jobs=None, num_parallel_tree=None,\n",
      "              random_state=None, reg_alpha=None, reg_lambda=None,\n",
      "              scale_pos_weight=None, subsample=None, tree_method=None,\n",
      "              validate_parameters=None, verbosity=None) Model complete\n"
     ]
    },
    {
     "name": "stdout",
     "output_type": "stream",
     "text": [
      "[08:41:54] WARNING: ../src/learner.cc:1095: Starting in XGBoost 1.3.0, the default evaluation metric used with the objective 'binary:logistic' was changed from 'error' to 'logloss'. Explicitly set eval_metric if you'd like to restore the old behavior.\n",
      "[08:41:55] WARNING: ../src/learner.cc:1095: Starting in XGBoost 1.3.0, the default evaluation metric used with the objective 'binary:logistic' was changed from 'error' to 'logloss'. Explicitly set eval_metric if you'd like to restore the old behavior.\n",
      "[08:41:57] WARNING: ../src/learner.cc:1095: Starting in XGBoost 1.3.0, the default evaluation metric used with the objective 'binary:logistic' was changed from 'error' to 'logloss'. Explicitly set eval_metric if you'd like to restore the old behavior.\n",
      "Model Performance - XGBClassifier(base_score=None, booster=None, colsample_bylevel=None,\n",
      "              colsample_bynode=None, colsample_bytree=None, gamma=None,\n",
      "              gpu_id=None, importance_type='gain', interaction_constraints=None,\n",
      "              learning_rate=None, max_delta_step=None, max_depth=None,\n",
      "              min_child_weight=None, missing=nan, monotone_constraints=None,\n",
      "              n_estimators=100, n_jobs=None, num_parallel_tree=None,\n",
      "              random_state=None, reg_alpha=None, reg_lambda=None,\n",
      "              scale_pos_weight=None, subsample=None, tree_method=None,\n",
      "              validate_parameters=None, verbosity=None)\n",
      "Train Result:\n",
      "              precision    recall  f1-score   support\n",
      "\n",
      "           0       0.98      1.00      0.99     31620\n",
      "           1       0.99      0.94      0.96      7905\n",
      "\n",
      "    accuracy                           0.98     39525\n",
      "   macro avg       0.98      0.97      0.98     39525\n",
      "weighted avg       0.98      0.98      0.98     39525\n",
      "\n",
      "\n",
      "Average f1 Score: 0.9469347435364739\n",
      "Average Std in F1 score: 0.005027602770578582\n",
      "\n",
      "Test Result:\n",
      "              precision    recall  f1-score   support\n",
      "\n",
      "           0       0.98      1.00      0.99     13552\n",
      "           1       0.98      0.93      0.95      3388\n",
      "\n",
      "    accuracy                           0.98     16940\n",
      "   macro avg       0.98      0.96      0.97     16940\n",
      "weighted avg       0.98      0.98      0.98     16940\n",
      "\n"
     ]
    },
    {
     "data": {
      "image/png": "[encoded data removed]",
      "text/plain": [
       "<Figure size 432x288 with 1 Axes>"
      ]
     },
     "metadata": {
      "needs_background": "light"
     },
     "output_type": "display_data"
    },
    {
     "name": "stdout",
     "output_type": "stream",
     "text": [
      "\n",
      "Model training and testing completed\n",
      "\n",
      "Function End Reached\n"
     ]
    }
   ],
   "source": [
    "build_baseline_model(XGBClassifier(),xtrain,ytrain,xtest,ytest,num_cols=nums)"
   ]
  },
  {
   "cell_type": "code",
   "execution_count": 227,
   "id": "62ac04e0",
   "metadata": {},
   "outputs": [
    {
     "data": {
      "text/html": [
       "<div>\n",
       "<style scoped>\n",
       "    .dataframe tbody tr th:only-of-type {\n",
       "        vertical-align: middle;\n",
       "    }\n",
       "\n",
       "    .dataframe tbody tr th {\n",
       "        vertical-align: top;\n",
       "    }\n",
       "\n",
       "    .dataframe thead th {\n",
       "        text-align: right;\n",
       "    }\n",
       "</style>\n",
       "<table border=\"1\" class=\"dataframe\">\n",
       "  <thead>\n",
       "    <tr style=\"text-align: right;\">\n",
       "      <th></th>\n",
       "      <th>Model</th>\n",
       "      <th>Train F1 score</th>\n",
       "      <th>Test F1</th>\n",
       "      <th>ROC-AUC</th>\n",
       "      <th>CV F1 average</th>\n",
       "      <th>CV F1 std average</th>\n",
       "      <th>Model Latency for 1 unit</th>\n",
       "    </tr>\n",
       "  </thead>\n",
       "  <tbody>\n",
       "    <tr>\n",
       "      <th>1</th>\n",
       "      <td>LogisticRegression</td>\n",
       "      <td>0.899183</td>\n",
       "      <td>0.893860</td>\n",
       "      <td>0.983655</td>\n",
       "      <td>0.899652</td>\n",
       "      <td>0.004315</td>\n",
       "      <td>0.000512</td>\n",
       "    </tr>\n",
       "    <tr>\n",
       "      <th>2</th>\n",
       "      <td>KNeighborsClassifier</td>\n",
       "      <td>0.955115</td>\n",
       "      <td>0.940639</td>\n",
       "      <td>0.983154</td>\n",
       "      <td>0.934405</td>\n",
       "      <td>0.002009</td>\n",
       "      <td>0.002590</td>\n",
       "    </tr>\n",
       "    <tr>\n",
       "      <th>3</th>\n",
       "      <td>DecisionTreeClassifier(random_state=0)</td>\n",
       "      <td>0.968340</td>\n",
       "      <td>0.947707</td>\n",
       "      <td>0.985341</td>\n",
       "      <td>0.945671</td>\n",
       "      <td>0.003545</td>\n",
       "      <td>0.000499</td>\n",
       "    </tr>\n",
       "    <tr>\n",
       "      <th>4</th>\n",
       "      <td>SVC(probability=True)</td>\n",
       "      <td>0.921131</td>\n",
       "      <td>0.915061</td>\n",
       "      <td>0.964096</td>\n",
       "      <td>0.917260</td>\n",
       "      <td>0.002626</td>\n",
       "      <td>0.000940</td>\n",
       "    </tr>\n",
       "    <tr>\n",
       "      <th>5</th>\n",
       "      <td>RandomForestClassifier(random_state=0)</td>\n",
       "      <td>0.968484</td>\n",
       "      <td>0.954587</td>\n",
       "      <td>0.994602</td>\n",
       "      <td>0.951492</td>\n",
       "      <td>0.002346</td>\n",
       "      <td>0.014952</td>\n",
       "    </tr>\n",
       "    <tr>\n",
       "      <th>6</th>\n",
       "      <td>AdaBoostClassifier(random_state=0)</td>\n",
       "      <td>0.916341</td>\n",
       "      <td>0.914095</td>\n",
       "      <td>0.989823</td>\n",
       "      <td>0.916810</td>\n",
       "      <td>0.004832</td>\n",
       "      <td>0.009895</td>\n",
       "    </tr>\n",
       "    <tr>\n",
       "      <th>7</th>\n",
       "      <td>GradientBoostingClassifier(random_state=0)</td>\n",
       "      <td>0.933299</td>\n",
       "      <td>0.929814</td>\n",
       "      <td>0.991598</td>\n",
       "      <td>0.931384</td>\n",
       "      <td>0.001807</td>\n",
       "      <td>0.000830</td>\n",
       "    </tr>\n",
       "    <tr>\n",
       "      <th>8</th>\n",
       "      <td>XGBClassifier(base_score=None, booster=None, c...</td>\n",
       "      <td>0.961533</td>\n",
       "      <td>0.951730</td>\n",
       "      <td>0.994618</td>\n",
       "      <td>0.946935</td>\n",
       "      <td>0.005028</td>\n",
       "      <td>0.002475</td>\n",
       "    </tr>\n",
       "  </tbody>\n",
       "</table>\n",
       "</div>"
      ],
      "text/plain": [
       "                                               Model  Train F1 score  \\\n",
       "1                                 LogisticRegression        0.899183   \n",
       "2                               KNeighborsClassifier        0.955115   \n",
       "3             DecisionTreeClassifier(random_state=0)        0.968340   \n",
       "4                              SVC(probability=True)        0.921131   \n",
       "5             RandomForestClassifier(random_state=0)        0.968484   \n",
       "6                 AdaBoostClassifier(random_state=0)        0.916341   \n",
       "7         GradientBoostingClassifier(random_state=0)        0.933299   \n",
       "8  XGBClassifier(base_score=None, booster=None, c...        0.961533   \n",
       "\n",
       "    Test F1   ROC-AUC  CV F1 average  CV F1 std average  \\\n",
       "1  0.893860  0.983655       0.899652           0.004315   \n",
       "2  0.940639  0.983154       0.934405           0.002009   \n",
       "3  0.947707  0.985341       0.945671           0.003545   \n",
       "4  0.915061  0.964096       0.917260           0.002626   \n",
       "5  0.954587  0.994602       0.951492           0.002346   \n",
       "6  0.914095  0.989823       0.916810           0.004832   \n",
       "7  0.929814  0.991598       0.931384           0.001807   \n",
       "8  0.951730  0.994618       0.946935           0.005028   \n",
       "\n",
       "   Model Latency for 1 unit  \n",
       "1                  0.000512  \n",
       "2                  0.002590  \n",
       "3                  0.000499  \n",
       "4                  0.000940  \n",
       "5                  0.014952  \n",
       "6                  0.009895  \n",
       "7                  0.000830  \n",
       "8                  0.002475  "
      ]
     },
     "execution_count": 227,
     "metadata": {},
     "output_type": "execute_result"
    }
   ],
   "source": [
    "baseline_results.dropna(inplace=True)\n",
    "baseline_results"
   ]
  },
  {
   "cell_type": "markdown",
   "id": "91016770",
   "metadata": {},
   "source": [
    "Inferences - \n",
    "\n",
    "- Based on the analysis of f1 scores, cross validation and model latency for several models, we will decide which model to choose for further tuning.\n",
    "- In terms of F1 scores across train and test, XGB Classifier, Random Forest Classifier and K Nearest Neighbors are providing scores around 0.94-0.96, with Random Forest Providing the best result on test i.e 0.954\n",
    "- In terms of Area Under Curve scores, XGB Classifier, Gradient Boosting and Random Forest Classifier are providing scores aroud 0.99, with XGB Classifier and Random Forest with identical scores of 0.994.\n",
    "- In terms of cross validation, Random Forest Provides the best result across the 3 training samples i.e 0.95. However,Gradient Boosting classifier provides the lowest deviation in f1 scores i.e 0.001807. Amongst other ensemble techniques,Random Forest provides the lowest deviation i.e 0.0023.\n",
    "- In terms of latency i.e amount of time model takes to make a prediction for a given input, single estimators like Decision Tree, Logistic regression and Support Vector take the lowest time.\n",
    "- Random Forest takes the highest amount of time. However, using feature selection and parameter tuning, we can reduce latency time.\n",
    "- Based on comparisons, we can see that Random Forest is the best performer and hence, we will choose Random Forest for further tuning"
   ]
  },
  {
   "cell_type": "markdown",
   "id": "25f947ab",
   "metadata": {},
   "source": [
    "## Feature Selection"
   ]
  },
  {
   "cell_type": "code",
   "execution_count": 228,
   "id": "3881b02e",
   "metadata": {},
   "outputs": [
    {
     "name": "stdout",
     "output_type": "stream",
     "text": [
      "Requirement already satisfied: mlxtend in /home/ec2-user/anaconda3/envs/python3/lib/python3.6/site-packages (0.19.0)\n",
      "Requirement already satisfied: matplotlib>=3.0.0 in /home/ec2-user/anaconda3/envs/python3/lib/python3.6/site-packages (from mlxtend) (3.3.4)\n",
      "Requirement already satisfied: scipy>=1.2.1 in /home/ec2-user/anaconda3/envs/python3/lib/python3.6/site-packages (from mlxtend) (1.5.3)\n",
      "Requirement already satisfied: numpy>=1.16.2 in /home/ec2-user/anaconda3/envs/python3/lib/python3.6/site-packages (from mlxtend) (1.19.5)\n",
      "Requirement already satisfied: joblib>=0.13.2 in /home/ec2-user/anaconda3/envs/python3/lib/python3.6/site-packages (from mlxtend) (1.0.1)\n",
      "Requirement already satisfied: setuptools in /home/ec2-user/anaconda3/envs/python3/lib/python3.6/site-packages (from mlxtend) (49.6.0.post20210108)\n",
      "Requirement already satisfied: pandas>=0.24.2 in /home/ec2-user/anaconda3/envs/python3/lib/python3.6/site-packages (from mlxtend) (1.1.5)\n",
      "Requirement already satisfied: scikit-learn>=0.20.3 in /home/ec2-user/anaconda3/envs/python3/lib/python3.6/site-packages (from mlxtend) (0.24.1)\n",
      "Requirement already satisfied: cycler>=0.10 in /home/ec2-user/anaconda3/envs/python3/lib/python3.6/site-packages (from matplotlib>=3.0.0->mlxtend) (0.10.0)\n",
      "Requirement already satisfied: pyparsing!=2.0.4,!=2.1.2,!=2.1.6,>=2.0.3 in /home/ec2-user/anaconda3/envs/python3/lib/python3.6/site-packages (from matplotlib>=3.0.0->mlxtend) (2.4.7)\n",
      "Requirement already satisfied: python-dateutil>=2.1 in /home/ec2-user/anaconda3/envs/python3/lib/python3.6/site-packages (from matplotlib>=3.0.0->mlxtend) (2.8.1)\n",
      "Requirement already satisfied: pillow>=6.2.0 in /home/ec2-user/anaconda3/envs/python3/lib/python3.6/site-packages (from matplotlib>=3.0.0->mlxtend) (8.3.2)\n",
      "Requirement already satisfied: kiwisolver>=1.0.1 in /home/ec2-user/anaconda3/envs/python3/lib/python3.6/site-packages (from matplotlib>=3.0.0->mlxtend) (1.3.1)\n",
      "Requirement already satisfied: six in /home/ec2-user/anaconda3/envs/python3/lib/python3.6/site-packages (from cycler>=0.10->matplotlib>=3.0.0->mlxtend) (1.15.0)\n",
      "Requirement already satisfied: pytz>=2017.2 in /home/ec2-user/anaconda3/envs/python3/lib/python3.6/site-packages (from pandas>=0.24.2->mlxtend) (2021.1)\n",
      "Requirement already satisfied: threadpoolctl>=2.0.0 in /home/ec2-user/anaconda3/envs/python3/lib/python3.6/site-packages (from scikit-learn>=0.20.3->mlxtend) (2.1.0)\n"
     ]
    }
   ],
   "source": [
    "! pip install mlxtend"
   ]
  },
  {
   "cell_type": "code",
   "execution_count": 229,
   "id": "9bad0e85",
   "metadata": {},
   "outputs": [],
   "source": [
    "from sklearn.feature_selection import RFECV\n",
    "from mlxtend.feature_selection import SequentialFeatureSelector"
   ]
  },
  {
   "cell_type": "code",
   "execution_count": 230,
   "id": "67cd420d",
   "metadata": {},
   "outputs": [],
   "source": [
    "baseline_best_features = pd.DataFrame({\"Model\":None,\"Train F1 score\":None,\"Test F1\":None,\"Test Recall\":None,\"CV Recall average\":None,\"CV Recall std average\":None,\"Model Latency for 1 unit in seconds\":None},index=range(1))"
   ]
  },
  {
   "cell_type": "code",
   "execution_count": 231,
   "id": "bb06bac7",
   "metadata": {},
   "outputs": [],
   "source": [
    "def build_feature_selection_model(model_estimator,feature_selector_estimator,x_training,y_training,x_testing,y_testing,scaling=False,num_cols=None):\n",
    "    \n",
    "    \"\"\"\n",
    "    Creates a ML Model for given model_estimator and train sample and tests on test sample. Performs cross validation too. Uses f1 score for evaluation.\n",
    "    \n",
    "    Note - It is assumed that missing values treatment, outlier treatment, transformation and encoding have already been performed.\n",
    "    \n",
    "    Also, if unknown technique passed or no technique passed, default technique used is feature importance\n",
    "    Arguments - \n",
    "    \n",
    "    1. num_cols : A list of numerical features in the dataset. If not passed, function will try to find numerical features\n",
    "    \n",
    "    \"\"\"\n",
    "    if str(f\"{model_estimator}\").replace(\"()\",\"\") == \"XGBClassifier\":\n",
    "        model_str = \"XGBClassifier\"\n",
    "    else:\n",
    "        model_str = str(f\"{model_estimator}\").replace(\"()\",\"\")\n",
    "        \n",
    "    \n",
    "    if str(f\"{feature_selector_estimator}\").split(\"(\")[0] != \"TOP10FeatureImportances\":\n",
    "        feature_selector_estimator_str = str(f\"{feature_selector_estimator}\").split(\"(\")[0]\n",
    "    else:\n",
    "        feature_selector_estimator_str = \"TOP10FeatureImportances\"\n",
    "    \n",
    "    if num_cols == None:\n",
    "        nums_cols = list(x_training.select_dtypes(include=np.object).columns)\n",
    "    \n",
    "    if scaling == True:\n",
    "        from sklearn.preprocessing import StandardScaler\n",
    "        SC = StandardScaler().fit(x_training[list(num_cols)])\n",
    "        x_training[list(nums)] = SC.transform(x_training[list(num_cols)])\n",
    "        x_testing[list(nums)] = SC.transform(x_testing[list(num_cols)])\n",
    "    \n",
    "    \n",
    "    try:\n",
    "        \n",
    "        # Finding best features\n",
    "        \n",
    "        if feature_selector_estimator_str == \"SequentialFeatureSelector\":\n",
    "            SFS = SequentialFeatureSelector(model_estimator,k_features=\"best\",cv=3,scoring=\"recall\",forward=False).fit(x_training,y_training)\n",
    "            logger.info(\"Performing Forward Feature Elimination\")\n",
    "            top_features = list(SFS.k_feature_names_)\n",
    "                \n",
    "        elif feature_selector_estimator_str == \"RFECV\":\n",
    "            RFE = RFECV(RandomForestClassifier(random_state=0),min_features_to_select=10,cv=3,scoring=\"recall\").fit(x_training,y_training)\n",
    "            logger.info(\"Performing Recursive Feature Elimination\")\n",
    "            top_features = list(x_training.columns[RFE.ranking_==1])\n",
    "                \n",
    "        elif feature_selector_estimator_str == \"TOP10FeatureImportances\":\n",
    "            print(\"Since no feature selector technique chosen or unknown selection technique chosen, top 10 features from Feature Importances will be chosen\")\n",
    "            model = model_estimator.fit(x_training,y_training)\n",
    "            importances = pd.DataFrame({\"Feature\":x_training.columns,\"Importances\":model.feature_importances_})\n",
    "            importances.sort_values(by=\"Importances\",ascending=False,inplace=True)\n",
    "            logger.info(\"Calculating Feature Importances\")\n",
    "            top_features = importances.iloc[:10,0].tolist()\n",
    "            \n",
    "        ## Training the model and calculating f1 scores on train and test along with cross validation scores\n",
    "        \n",
    "        model = model_estimator.fit(x_training[top_features],y_training)\n",
    "        train_pred = model.predict(x_training[top_features])\n",
    "        logger.info(f\"Training {model_str} with {feature_selector_estimator_str} Model complete\")\n",
    "        test_pred = model.predict(x_testing[top_features])\n",
    "        cv = cross_val_score(model_estimator,x_training[top_features],y_training,scoring=\"recall\",cv=3)\n",
    "        train_f1 = f1_score(y_training,train_pred)\n",
    "        test_f1 = f1_score(y_testing,test_pred)\n",
    "        recall = recall_score(ytest,test_pred)\n",
    "        cv_mean = cv.mean()\n",
    "        cv_std = cv.std()\n",
    "\n",
    "        ## Model Latency for 1 unit in seconds\n",
    "        start = datetime.datetime.now()\n",
    "        model.predict(x_training[top_features].iloc[0].values.reshape(1,-1))\n",
    "        end = datetime.datetime.now()\n",
    "        latency = (end.microsecond - start.microsecond) / 1000000\n",
    "    \n",
    "\n",
    "        ## Calculating ROC AUC Score\n",
    "        test_pred_prob = model.predict_proba(x_testing[top_features])[:,1]\n",
    "        roc = roc_auc_score(y_testing,test_pred_prob)\n",
    "\n",
    "    \n",
    "        ## Appending results to model performance table\n",
    "    \n",
    "        try:\n",
    "            global baseline_best_features\n",
    "    \n",
    "            baseline_best_features = baseline_best_features.append({\"Model\":f\"{model_str} - {feature_selector_estimator_str}\",\"Train F1 score\":train_f1,\"Test F1\":test_f1,\"Test Recall\":recall,\"CV Recall average\":cv_mean,\"CV Recall std average\":cv_std,\"Model Latency for 1 unit in seconds\":latency},ignore_index=True)\n",
    "        except NameError:\n",
    "            print(\"Baseline best features results table not defined\")\n",
    "    \n",
    "        ## Displaying results\n",
    "        print(f\"Model Performance - {model_str} with features from {feature_selector_estimator_str}\")\n",
    "    \n",
    "        print(\"Train Result:\",classification_report(y_training,train_pred),sep=\"\\n\")\n",
    "        print()\n",
    "        print(f\"Average recall Score: {cv_mean}\",f\"Average Std in recalls score: {cv_std}\",sep=\"\\n\")\n",
    "        print()\n",
    "        print(\"Test Result:\",classification_report(y_testing,test_pred),sep=\"\\n\")\n",
    "\n",
    "        fpr,tpr,thres = roc_curve(y_testing,test_pred_prob)\n",
    "        plt.plot(fpr,tpr)\n",
    "        plt.fill_between(fpr,tpr,alpha=0.3)\n",
    "        plt.title(f\"AUC Curve for {model_str} \\nROC-AUC Score: {roc}\",size=15)\n",
    "        plt.xlabel(\"False Positive Rate\")\n",
    "        plt.ylabel(\"True Positive Rate\")\n",
    "        plt.show()\n",
    "        \n",
    "        plt.figure(figsize = (6,5))\n",
    "        sns.heatmap(confusion_matrix(y_testing,test_pred),annot=True,cbar=False,fmt=\"g\")\n",
    "        plt.xlabel(\"Predicted Labels\")\n",
    "        plt.ylabel(\"Actual Labels\")\n",
    "        plt.xticks([0.5,1.5],[\"Non Backorders\",\"Backorders\"])\n",
    "        plt.yticks([0.5,1.5],[\"Non Backorders\",\"Backorders\"])\n",
    "        plt.title(f\"CONFUSION MATRIX for {model_str} with {feature_selector_estimator_str}\")\n",
    "        plt.show()\n",
    "        \n",
    "        print(\"\",\"Model training and testing completed\",\"\",sep=\"\\n\")\n",
    "        \n",
    "    except NameError:\n",
    "        print(\"Either the model_estimator or one or more of the samples are not defined or loaded\")\n",
    "        logging.error(f\"Either the {model_str} model_estimator, {feature_selector_estimator_str} or one or more of the samples are not defined or loaded\")\n",
    "    except AttributeError:\n",
    "        print(\"Model has no feature importance attribute\")\n",
    "        logging.error(f\"{model_str} has no feature importance attribute\")\n",
    "    else:\n",
    "        print(\"Function End Reached\")\n",
    "        \n",
    "    return top_features"
   ]
  },
  {
   "cell_type": "markdown",
   "id": "dc697a30",
   "metadata": {},
   "source": [
    "### Backward Feature Elimination"
   ]
  },
  {
   "cell_type": "code",
   "execution_count": 232,
   "id": "78edbd7b",
   "metadata": {},
   "outputs": [
    {
     "name": "stderr",
     "output_type": "stream",
     "text": [
      "2021-10-04 08:50:25 INFO-Performing Forward Feature Elimination\n",
      "2021-10-04 08:50:25 INFO-Performing Forward Feature Elimination\n",
      "2021-10-04 08:50:25 INFO-Performing Forward Feature Elimination\n",
      "2021-10-04 08:50:25 INFO-Performing Forward Feature Elimination\n",
      "2021-10-04 08:50:28 INFO-Training RandomForestClassifier(random_state=0) with SequentialFeatureSelector Model complete\n",
      "2021-10-04 08:50:28 INFO-Training RandomForestClassifier(random_state=0) with SequentialFeatureSelector Model complete\n",
      "2021-10-04 08:50:28 INFO-Training RandomForestClassifier(random_state=0) with SequentialFeatureSelector Model complete\n",
      "2021-10-04 08:50:28 INFO-Training RandomForestClassifier(random_state=0) with SequentialFeatureSelector Model complete\n"
     ]
    },
    {
     "name": "stdout",
     "output_type": "stream",
     "text": [
      "Model Performance - RandomForestClassifier(random_state=0) with features from SequentialFeatureSelector\n",
      "Train Result:\n",
      "              precision    recall  f1-score   support\n",
      "\n",
      "           0       0.99      1.00      0.99     31620\n",
      "           1       0.99      0.95      0.97      7905\n",
      "\n",
      "    accuracy                           0.99     39525\n",
      "   macro avg       0.99      0.97      0.98     39525\n",
      "weighted avg       0.99      0.99      0.99     39525\n",
      "\n",
      "\n",
      "Average recall Score: 0.9302972802024035\n",
      "Average Std in recalls score: 0.0036180517763630586\n",
      "\n",
      "Test Result:\n",
      "              precision    recall  f1-score   support\n",
      "\n",
      "           0       0.98      1.00      0.99     13552\n",
      "           1       0.98      0.93      0.95      3388\n",
      "\n",
      "    accuracy                           0.98     16940\n",
      "   macro avg       0.98      0.96      0.97     16940\n",
      "weighted avg       0.98      0.98      0.98     16940\n",
      "\n"
     ]
    },
    {
     "data": {
      "image/png": "[encoded data removed]",
      "text/plain": [
       "<Figure size 432x288 with 1 Axes>"
      ]
     },
     "metadata": {
      "needs_background": "light"
     },
     "output_type": "display_data"
    },
    {
     "data": {
      "image/png": "[encoded data removed]",
      "text/plain": [
       "<Figure size 432x360 with 1 Axes>"
      ]
     },
     "metadata": {
      "needs_background": "light"
     },
     "output_type": "display_data"
    },
    {
     "name": "stdout",
     "output_type": "stream",
     "text": [
      "\n",
      "Model training and testing completed\n",
      "\n",
      "Function End Reached\n"
     ]
    }
   ],
   "source": [
    "sfs = build_feature_selection_model(RandomForestClassifier(random_state=0),SequentialFeatureSelector(RandomForestClassifier(random_state=0),forward=False,k_features=\"best\",cv=3,scoring=\"recall\"),xtrain,ytrain,xtest,ytest)"
   ]
  },
  {
   "cell_type": "code",
   "execution_count": 233,
   "id": "3f0ed035",
   "metadata": {},
   "outputs": [
    {
     "data": {
      "text/plain": [
       "['national_inv',\n",
       " 'lead_time',\n",
       " 'in_transit_qty',\n",
       " 'forecast_6_month',\n",
       " 'sales_6_month',\n",
       " 'min_bank',\n",
       " 'pieces_past_due',\n",
       " 'perf_6_month_avg',\n",
       " 'local_bo_qty',\n",
       " 'x1_Yes',\n",
       " 'x2_Yes',\n",
       " 'x3_Yes',\n",
       " 'x4_Yes']"
      ]
     },
     "execution_count": 233,
     "metadata": {},
     "output_type": "execute_result"
    }
   ],
   "source": [
    "sfs"
   ]
  },
  {
   "cell_type": "markdown",
   "id": "4f02c68a",
   "metadata": {},
   "source": [
    "### Recursive Feature Elimination"
   ]
  },
  {
   "cell_type": "code",
   "execution_count": 234,
   "id": "fc6f0d33",
   "metadata": {},
   "outputs": [
    {
     "name": "stderr",
     "output_type": "stream",
     "text": [
      "2021-10-04 08:51:04 INFO-Performing Recursive Feature Elimination\n",
      "2021-10-04 08:51:04 INFO-Performing Recursive Feature Elimination\n",
      "2021-10-04 08:51:04 INFO-Performing Recursive Feature Elimination\n",
      "2021-10-04 08:51:04 INFO-Performing Recursive Feature Elimination\n",
      "2021-10-04 08:51:06 INFO-Training RandomForestClassifier(random_state=0) with RFECV Model complete\n",
      "2021-10-04 08:51:06 INFO-Training RandomForestClassifier(random_state=0) with RFECV Model complete\n",
      "2021-10-04 08:51:06 INFO-Training RandomForestClassifier(random_state=0) with RFECV Model complete\n",
      "2021-10-04 08:51:06 INFO-Training RandomForestClassifier(random_state=0) with RFECV Model complete\n"
     ]
    },
    {
     "name": "stdout",
     "output_type": "stream",
     "text": [
      "Model Performance - RandomForestClassifier(random_state=0) with features from RFECV\n",
      "Train Result:\n",
      "              precision    recall  f1-score   support\n",
      "\n",
      "           0       0.99      1.00      0.99     31620\n",
      "           1       0.99      0.95      0.97      7905\n",
      "\n",
      "    accuracy                           0.99     39525\n",
      "   macro avg       0.99      0.97      0.98     39525\n",
      "weighted avg       0.99      0.99      0.99     39525\n",
      "\n",
      "\n",
      "Average recall Score: 0.9299177735610374\n",
      "Average Std in recalls score: 0.002176426380023456\n",
      "\n",
      "Test Result:\n",
      "              precision    recall  f1-score   support\n",
      "\n",
      "           0       0.98      1.00      0.99     13552\n",
      "           1       0.98      0.93      0.95      3388\n",
      "\n",
      "    accuracy                           0.98     16940\n",
      "   macro avg       0.98      0.96      0.97     16940\n",
      "weighted avg       0.98      0.98      0.98     16940\n",
      "\n"
     ]
    },
    {
     "data": {
      "image/png": "[encoded data removed]",
      "text/plain": [
       "<Figure size 432x288 with 1 Axes>"
      ]
     },
     "metadata": {
      "needs_background": "light"
     },
     "output_type": "display_data"
    },
    {
     "data": {
      "image/png": "[encoded data removed]",
      "text/plain": [
       "<Figure size 432x360 with 1 Axes>"
      ]
     },
     "metadata": {
      "needs_background": "light"
     },
     "output_type": "display_data"
    },
    {
     "name": "stdout",
     "output_type": "stream",
     "text": [
      "\n",
      "Model training and testing completed\n",
      "\n",
      "Function End Reached\n"
     ]
    }
   ],
   "source": [
    "rfe = build_feature_selection_model(RandomForestClassifier(random_state=0),RFECV(RandomForestClassifier(random_state=0),min_features_to_select=10,cv=3,scoring=\"recall\"),xtrain,ytrain,xtest,ytest)"
   ]
  },
  {
   "cell_type": "code",
   "execution_count": 235,
   "id": "862b0326",
   "metadata": {},
   "outputs": [
    {
     "data": {
      "text/plain": [
       "['national_inv',\n",
       " 'lead_time',\n",
       " 'in_transit_qty',\n",
       " 'forecast_6_month',\n",
       " 'sales_6_month',\n",
       " 'min_bank',\n",
       " 'pieces_past_due',\n",
       " 'perf_6_month_avg',\n",
       " 'local_bo_qty',\n",
       " 'x0_Yes',\n",
       " 'x1_Yes',\n",
       " 'x2_Yes',\n",
       " 'x3_Yes',\n",
       " 'x4_Yes']"
      ]
     },
     "execution_count": 235,
     "metadata": {},
     "output_type": "execute_result"
    }
   ],
   "source": [
    "rfe"
   ]
  },
  {
   "cell_type": "markdown",
   "id": "4677890c",
   "metadata": {},
   "source": [
    "### TOP 10 Feature Importances"
   ]
  },
  {
   "cell_type": "code",
   "execution_count": 236,
   "id": "97ef84a2",
   "metadata": {},
   "outputs": [
    {
     "name": "stdout",
     "output_type": "stream",
     "text": [
      "Since no feature selector technique chosen or unknown selection technique chosen, top 10 features from Feature Importances will be chosen\n"
     ]
    },
    {
     "name": "stderr",
     "output_type": "stream",
     "text": [
      "2021-10-04 08:51:13 INFO-Calculating Feature Importances\n",
      "2021-10-04 08:51:13 INFO-Calculating Feature Importances\n",
      "2021-10-04 08:51:13 INFO-Calculating Feature Importances\n",
      "2021-10-04 08:51:13 INFO-Calculating Feature Importances\n",
      "2021-10-04 08:51:16 INFO-Training RandomForestClassifier(random_state=0) with TOP10FeatureImportances Model complete\n",
      "2021-10-04 08:51:16 INFO-Training RandomForestClassifier(random_state=0) with TOP10FeatureImportances Model complete\n",
      "2021-10-04 08:51:16 INFO-Training RandomForestClassifier(random_state=0) with TOP10FeatureImportances Model complete\n",
      "2021-10-04 08:51:16 INFO-Training RandomForestClassifier(random_state=0) with TOP10FeatureImportances Model complete\n"
     ]
    },
    {
     "name": "stdout",
     "output_type": "stream",
     "text": [
      "Model Performance - RandomForestClassifier(random_state=0) with features from TOP10FeatureImportances\n",
      "Train Result:\n",
      "              precision    recall  f1-score   support\n",
      "\n",
      "           0       0.99      1.00      0.99     31620\n",
      "           1       0.99      0.95      0.97      7905\n",
      "\n",
      "    accuracy                           0.99     39525\n",
      "   macro avg       0.99      0.97      0.98     39525\n",
      "weighted avg       0.99      0.99      0.99     39525\n",
      "\n",
      "\n",
      "Average recall Score: 0.9283997469955724\n",
      "Average Std in recalls score: 0.0028116522164317427\n",
      "\n",
      "Test Result:\n",
      "              precision    recall  f1-score   support\n",
      "\n",
      "           0       0.98      1.00      0.99     13552\n",
      "           1       0.98      0.93      0.95      3388\n",
      "\n",
      "    accuracy                           0.98     16940\n",
      "   macro avg       0.98      0.96      0.97     16940\n",
      "weighted avg       0.98      0.98      0.98     16940\n",
      "\n"
     ]
    },
    {
     "data": {
      "image/png": "[encoded data removed]",
      "text/plain": [
       "<Figure size 432x288 with 1 Axes>"
      ]
     },
     "metadata": {
      "needs_background": "light"
     },
     "output_type": "display_data"
    },
    {
     "data": {
      "image/png": "[encoded data removed]",
      "text/plain": [
       "<Figure size 432x360 with 1 Axes>"
      ]
     },
     "metadata": {
      "needs_background": "light"
     },
     "output_type": "display_data"
    },
    {
     "name": "stdout",
     "output_type": "stream",
     "text": [
      "\n",
      "Model training and testing completed\n",
      "\n",
      "Function End Reached\n"
     ]
    }
   ],
   "source": [
    "top10 = build_feature_selection_model(RandomForestClassifier(random_state=0),feature_selector_estimator=\"TOP10FeatureImportances\",x_training=xtrain,y_training=ytrain,x_testing=xtest,y_testing=ytest)"
   ]
  },
  {
   "cell_type": "code",
   "execution_count": 237,
   "id": "16cd08eb",
   "metadata": {},
   "outputs": [
    {
     "data": {
      "text/plain": [
       "['sales_6_month',\n",
       " 'forecast_6_month',\n",
       " 'min_bank',\n",
       " 'perf_6_month_avg',\n",
       " 'lead_time',\n",
       " 'national_inv',\n",
       " 'in_transit_qty',\n",
       " 'x1_Yes',\n",
       " 'local_bo_qty',\n",
       " 'x3_Yes']"
      ]
     },
     "execution_count": 237,
     "metadata": {},
     "output_type": "execute_result"
    }
   ],
   "source": [
    "top10"
   ]
  },
  {
   "cell_type": "code",
   "execution_count": 238,
   "id": "f82ad2fc",
   "metadata": {},
   "outputs": [
    {
     "data": {
      "text/html": [
       "<div>\n",
       "<style scoped>\n",
       "    .dataframe tbody tr th:only-of-type {\n",
       "        vertical-align: middle;\n",
       "    }\n",
       "\n",
       "    .dataframe tbody tr th {\n",
       "        vertical-align: top;\n",
       "    }\n",
       "\n",
       "    .dataframe thead th {\n",
       "        text-align: right;\n",
       "    }\n",
       "</style>\n",
       "<table border=\"1\" class=\"dataframe\">\n",
       "  <thead>\n",
       "    <tr style=\"text-align: right;\">\n",
       "      <th></th>\n",
       "      <th>Model</th>\n",
       "      <th>Train F1 score</th>\n",
       "      <th>Test F1</th>\n",
       "      <th>Test Recall</th>\n",
       "      <th>CV Recall average</th>\n",
       "      <th>CV Recall std average</th>\n",
       "      <th>Model Latency for 1 unit in seconds</th>\n",
       "    </tr>\n",
       "  </thead>\n",
       "  <tbody>\n",
       "    <tr>\n",
       "      <th>1</th>\n",
       "      <td>RandomForestClassifier(random_state=0) - Seque...</td>\n",
       "      <td>0.968484</td>\n",
       "      <td>0.954270</td>\n",
       "      <td>0.930047</td>\n",
       "      <td>0.930297</td>\n",
       "      <td>0.003618</td>\n",
       "      <td>0.01621</td>\n",
       "    </tr>\n",
       "    <tr>\n",
       "      <th>2</th>\n",
       "      <td>RandomForestClassifier(random_state=0) - RFECV</td>\n",
       "      <td>0.968484</td>\n",
       "      <td>0.954745</td>\n",
       "      <td>0.930933</td>\n",
       "      <td>0.929918</td>\n",
       "      <td>0.002176</td>\n",
       "      <td>0.01624</td>\n",
       "    </tr>\n",
       "    <tr>\n",
       "      <th>3</th>\n",
       "      <td>RandomForestClassifier(random_state=0) - TOP10...</td>\n",
       "      <td>0.968217</td>\n",
       "      <td>0.954270</td>\n",
       "      <td>0.930047</td>\n",
       "      <td>0.928400</td>\n",
       "      <td>0.002812</td>\n",
       "      <td>0.01648</td>\n",
       "    </tr>\n",
       "  </tbody>\n",
       "</table>\n",
       "</div>"
      ],
      "text/plain": [
       "                                               Model  Train F1 score  \\\n",
       "1  RandomForestClassifier(random_state=0) - Seque...        0.968484   \n",
       "2     RandomForestClassifier(random_state=0) - RFECV        0.968484   \n",
       "3  RandomForestClassifier(random_state=0) - TOP10...        0.968217   \n",
       "\n",
       "    Test F1  Test Recall  CV Recall average  CV Recall std average  \\\n",
       "1  0.954270     0.930047           0.930297               0.003618   \n",
       "2  0.954745     0.930933           0.929918               0.002176   \n",
       "3  0.954270     0.930047           0.928400               0.002812   \n",
       "\n",
       "   Model Latency for 1 unit in seconds  \n",
       "1                              0.01621  \n",
       "2                              0.01624  \n",
       "3                              0.01648  "
      ]
     },
     "execution_count": 238,
     "metadata": {},
     "output_type": "execute_result"
    }
   ],
   "source": [
    "baseline_best_features.dropna(inplace=True)\n",
    "baseline_best_features"
   ]
  },
  {
   "cell_type": "markdown",
   "id": "9ed80aa9",
   "metadata": {},
   "source": [
    "#### Observations - \n",
    "\n",
    "- We applied the backward feature elimination, recursive feature elimination and feature importance technique using Random Forest.\n",
    "\n",
    "- On comparing the f1 scores on train and test, recall on test, cross validation and model latency, we can conclude that while test f1 and recall scores are same for all methods, the f1 scores and cross validation recall score for RFE is the best across all models.\n",
    "\n",
    "- Across all models, despite using lesser or optimum no. of features, the models are taking more time to make a prediction.\n",
    "\n",
    "- The latency of Random Forest using the top 10 features, compared to the other models using RFE and SFS, is slightly higher.\n",
    "\n",
    "- However, in terms of interpretation and user interface, using top 10 features is easy as it uses lesser no. of features.\n",
    "\n",
    "- Also the model using the top 10 features has the lowest deviation in cross validation recalls. \n",
    "\n",
    "- Also, categorical features from the top 10 can be easily understood as compared to the other models. Other categorical features have no proper explanation, hence making it difficult for users to answer. The categorical features suggested by feature importances and can be interpretated.\n",
    "\n",
    "- Also, Hence, we will use Random Forest Classifier with top 10 features. We will try to tune the model to reduce latency."
   ]
  },
  {
   "cell_type": "markdown",
   "id": "622a3be3",
   "metadata": {},
   "source": [
    "## Grid Search / Random Search"
   ]
  },
  {
   "cell_type": "code",
   "execution_count": 253,
   "id": "86d4b8ed",
   "metadata": {},
   "outputs": [],
   "source": [
    "params = {\"n_estimators\":[20,40,60,80],\"max_depth\":range(3,11),\"criterion\":[\"gini\",\"entropy\"],\"min_samples_leaf\":[20,30,40,50],\"min_samples_split\":[60,50,40]}"
   ]
  },
  {
   "cell_type": "code",
   "execution_count": 254,
   "id": "3cded24e",
   "metadata": {},
   "outputs": [
    {
     "name": "stderr",
     "output_type": "stream",
     "text": [
      "2021-10-04 09:38:01 INFO-Hyperparameter Tuning started using Grid Search\n",
      "2021-10-04 09:38:01 INFO-Hyperparameter Tuning started using Grid Search\n",
      "2021-10-04 09:38:01 INFO-Hyperparameter Tuning started using Grid Search\n",
      "2021-10-04 09:38:01 INFO-Hyperparameter Tuning started using Grid Search\n"
     ]
    }
   ],
   "source": [
    "logger.info(\"Hyperparameter Tuning started using Grid Search\")\n",
    "grid = GridSearchCV(RandomForestClassifier(random_state=0),params,cv=3,scoring=\"recall\").fit(xtrain[top10],ytrain)"
   ]
  },
  {
   "cell_type": "code",
   "execution_count": 255,
   "id": "047b7cdf",
   "metadata": {},
   "outputs": [
    {
     "data": {
      "text/plain": [
       "{'criterion': 'entropy',\n",
       " 'max_depth': 10,\n",
       " 'min_samples_leaf': 20,\n",
       " 'min_samples_split': 50,\n",
       " 'n_estimators': 60}"
      ]
     },
     "execution_count": 255,
     "metadata": {},
     "output_type": "execute_result"
    }
   ],
   "source": [
    "grid.best_params_"
   ]
  },
  {
   "cell_type": "code",
   "execution_count": 256,
   "id": "9df83ccb",
   "metadata": {},
   "outputs": [
    {
     "data": {
      "text/plain": [
       "{'criterion': 'entropy',\n",
       " 'max_depth': 10,\n",
       " 'n_estimators': 60,\n",
       " 'min_samples_leaf': 20,\n",
       " 'min_samples_split': 50}"
      ]
     },
     "execution_count": 256,
     "metadata": {},
     "output_type": "execute_result"
    }
   ],
   "source": [
    "best_params = {\"criterion\":\"entropy\",'max_depth': 10, 'n_estimators': 60,\"min_samples_leaf\":20,\"min_samples_split\":50}\n",
    "best_params"
   ]
  },
  {
   "cell_type": "code",
   "execution_count": 39,
   "id": "06faece6",
   "metadata": {},
   "outputs": [],
   "source": [
    "pickle.dump(best_params,open(\"best_params.pkl\",\"wb\"))"
   ]
  },
  {
   "cell_type": "code",
   "execution_count": 257,
   "id": "34b6bf90",
   "metadata": {},
   "outputs": [
    {
     "name": "stderr",
     "output_type": "stream",
     "text": [
      "2021-10-04 09:59:27 INFO-Training tuned rf classifier with importances features\n",
      "2021-10-04 09:59:27 INFO-Training tuned rf classifier with importances features\n",
      "2021-10-04 09:59:27 INFO-Training tuned rf classifier with importances features\n",
      "2021-10-04 09:59:27 INFO-Training tuned rf classifier with importances features\n"
     ]
    },
    {
     "name": "stdout",
     "output_type": "stream",
     "text": [
      "Train Result:\n",
      "Latency: 0.01158\n",
      "              precision    recall  f1-score   support\n",
      "\n",
      "           0       0.98      0.99      0.98     31620\n",
      "           1       0.97      0.90      0.93      7905\n",
      "\n",
      "    accuracy                           0.97     39525\n",
      "   macro avg       0.97      0.95      0.96     39525\n",
      "weighted avg       0.97      0.97      0.97     39525\n",
      "\n",
      "\n",
      "Average Recall Score: 0.8958087367178277\n",
      "Average Std in recall score: 0.005132311897558682\n",
      "\n",
      "Test Result:\n",
      "              precision    recall  f1-score   support\n",
      "\n",
      "           0       0.97      0.99      0.98     13552\n",
      "           1       0.96      0.90      0.93      3388\n",
      "\n",
      "    accuracy                           0.97     16940\n",
      "   macro avg       0.97      0.94      0.96     16940\n",
      "weighted avg       0.97      0.97      0.97     16940\n",
      "\n"
     ]
    },
    {
     "data": {
      "image/png": "[encoded data removed]",
      "text/plain": [
       "<Figure size 432x288 with 1 Axes>"
      ]
     },
     "metadata": {
      "needs_background": "light"
     },
     "output_type": "display_data"
    }
   ],
   "source": [
    "tuned_rf_importances = RandomForestClassifier(max_depth=10,n_estimators = 60,random_state=0,criterion=\"entropy\",min_samples_leaf=20,min_samples_split=50).fit(xtrain[top10],ytrain)\n",
    "logger.info(\"Training tuned rf classifier with importances features\")\n",
    "tuned_rf_importances_train_pred = tuned_rf_importances.predict(xtrain[top10])\n",
    "tuned_rf_importances_test_pred = tuned_rf_importances.predict(xtest[top10])\n",
    "tuned_rf_importances_cv = cross_val_score(RandomForestClassifier(max_depth=10,n_estimators = 60,random_state=0,criterion=\"entropy\",min_samples_leaf=20,min_samples_split=50),xtrain[top10],ytrain,scoring=\"recall\",cv=3)\n",
    "tuned_rf_importances_train_f1 = f1_score(ytrain,tuned_rf_importances_train_pred)\n",
    "tuned_rf_importances_test_f1 = f1_score(ytest,tuned_rf_importances_test_pred)\n",
    "tuned_rf_importances_recall = recall_score(ytest,tuned_rf_importances_test_pred)\n",
    "tuned_rf_importances_cv_mean = tuned_rf_importances_cv.mean()\n",
    "tuned_rf_importances_cv_std = tuned_rf_importances_cv.std()\n",
    "\n",
    "## Model Latency for 1 unit\n",
    "start = datetime.datetime.now()\n",
    "tuned_rf_importances.predict(xtrain[top10].iloc[0].values.reshape(1,-1))\n",
    "end = datetime.datetime.now()\n",
    "latency = (end.microsecond - start.microsecond) / 1000000\n",
    "\n",
    "\n",
    "print(\"Train Result:\",f\"Latency: {latency}\",classification_report(ytrain,tuned_rf_importances_train_pred),sep=\"\\n\")\n",
    "print()\n",
    "print(f\"Average Recall Score: {tuned_rf_importances_recall}\",f\"Average Std in recall score: {tuned_rf_importances_cv_std}\",sep=\"\\n\")\n",
    "print()\n",
    "print(\"Test Result:\",classification_report(ytest,tuned_rf_importances_test_pred),sep=\"\\n\")\n",
    "\n",
    "tuned_rf_importances_test_pred_prob = tuned_rf_importances.predict_proba(xtest[top10])[:,1]\n",
    "tuned_rf_importances_roc = roc_auc_score(ytest,tuned_rf_importances_test_pred_prob)\n",
    "fpr,tpr,thres = roc_curve(ytest,tuned_rf_importances_test_pred_prob)\n",
    "plt.plot(fpr,tpr)\n",
    "plt.fill_between(fpr,tpr,alpha=0.3)\n",
    "plt.title(f\"AUC Curve \\nROC-AUC Score: {tuned_rf_importances_roc}\",size=15)\n",
    "plt.xlabel(\"False Positive Rate\")\n",
    "plt.ylabel(\"True Positive Rate\")\n",
    "plt.show()"
   ]
  },
  {
   "cell_type": "markdown",
   "id": "ebe6f5ac",
   "metadata": {},
   "source": [
    "#### Observations - \n",
    "\n",
    "- On tuning the Random Forest with top 10 features, the performance of the model dropped slightly indicated by the lower ROC-AUC Score, lower recall, lower f1 train and test scores.\n",
    "- Also, from the roc-auc curve, we can see that the roc-auc score has dropped to 0.9922 from 0.994.\n",
    "- While the recall on test has remained same, we can see higher deviation in recall scores during cross validation have increased from 0.0028 to 0.0055 and average recall has dropped from approx 0.93 to 0.90.\n",
    "- Though latency has reduced by from 0.015 to 0.011 however, performances have reduced.\n",
    "- We cannot afford too much compromise on performance for few microseconds as increased false negatives might cause a business to lose potential customers and sales and hence we will continue using the baseline random forest model with top 10 features."
   ]
  },
  {
   "cell_type": "code",
   "execution_count": 258,
   "id": "be448a40",
   "metadata": {},
   "outputs": [],
   "source": [
    "model = RandomForestClassifier(random_state=0).fit(xtrain[top10],ytrain)\n",
    "\n",
    "pickle.dump(model,open(\"rf_importances.pkl\",\"wb\"))"
   ]
  },
  {
   "cell_type": "code",
   "execution_count": 259,
   "id": "ca74c90f",
   "metadata": {},
   "outputs": [],
   "source": [
    "pickle.dump(top10,open(\"Final_Features.pkl\",\"wb\"))"
   ]
  },
  {
   "cell_type": "code",
   "execution_count": null,
   "id": "494ca38a",
   "metadata": {},
   "outputs": [],
   "source": []
  }
 ],
 "metadata": {
  "kernelspec": {
   "display_name": "Python 3",
   "language": "python",
   "name": "python3"
  },
  "language_info": {
   "codemirror_mode": {
    "name": "ipython",
    "version": 3
   },
   "file_extension": ".py",
   "mimetype": "text/x-python",
   "name": "python",
   "nbconvert_exporter": "python",
   "pygments_lexer": "ipython3",
   "version": "3.8.8"
  }
 },
 "nbformat": 4,
 "nbformat_minor": 5
}
