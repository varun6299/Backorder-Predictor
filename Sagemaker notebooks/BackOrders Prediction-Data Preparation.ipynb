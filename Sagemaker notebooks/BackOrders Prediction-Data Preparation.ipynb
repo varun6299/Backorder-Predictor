{
 "cells": [
  {
   "cell_type": "markdown",
   "id": "96c6f8d4",
   "metadata": {},
   "source": [
    "## About the Topic\n",
    "A backorder is an item that is not in stock at the moment. The customer can still order it, but delivery will only happen once the stock has been replenished. This is different from a situation when a product is labeled as being “out-of-stock” on the web platform which means the customer can’t order the product. However, backorders can still be placed despite the product not being in stock at a given moment in time. However, this causes a lot of additional inventory costs and wait for the customers, which is undesirable.\n",
    "\n",
    "### Objective\n",
    "The aim is to create a prediction model largely to identify whether items could be going out of stock or on backorder. This will help us to keep adequate or surplus stock of those products in order to meet demands of customers and not lose sales opportunities.\n",
    "\n",
    "### Data Description\n",
    "The list of all features and explanation of certain features (only unknown or technical jargons) in the features given the dataset have been provided below :\n",
    "- **sku** : a stock keeping unit is a distinct type of item for sale, such as a product or service, and all attributes associated with the item type that distinguish it from other item types\n",
    "\n",
    "- **national_inv**: The present inventory level of the product\n",
    "\n",
    "- **lead_time** :  lead time in inventory management is the amount of time between when a purchase order is placed to replenish products and when the order is received in the warehouse. Order lead times can vary between suppliers; the more suppliers involved in the chain, the longer the lead time is likely to be.\n",
    "\n",
    "- **in_transit_qty** : In transit inventory, also called transportation inventory or goods in transit, is any good shipped by a seller but not yet received by a buyer\n",
    "\n",
    "- **forecast_3_month** : Forecasted sales of the product for the next 3 months.\n",
    "\n",
    "- **forecast_6_month** : Forecasted sales of the product for the next 6 months.\n",
    "\n",
    "- **forecast_9_month** : Forecasted sales of the product for the next 9 months.\n",
    "\n",
    "- **sales_1_month** : Actual Sales of the product in the last 1 month.\n",
    "\n",
    "- **sales_3_month** : Actual Sales of the product in the last 3 months.\n",
    "\n",
    "- **sales_6_month** : Actual Sales of the product in the last 6 months.\n",
    "\n",
    "- **sales_9_month** : Actual Sales of the product in the last 9 months.\n",
    "\n",
    "- **min_bank**: Minimum amount of stock recommended to have.\n",
    "\n",
    "- **potential_issue**: Any problem identified with the product or part.\n",
    "\n",
    "- **pieces_past_due** : Assumption - The stock items that have been kept in stock for long time, past their expected life span.\n",
    "\n",
    "- **perf_6_month_avg** : Average performance of product over last 6 months.\n",
    "\n",
    "- **perf_12_month_avg**: Average performance of product over last 12 months.\n",
    "\n",
    "- **local_bo_qty** : BO QTY in inventory managment refers to the Back Order Quantity. To find Back Order Quantity, divide the number of undeliverable orders by the total number of orders and multiply the result by 100.\n",
    "\n",
    "- **deck_risk** : Assumption - It is the risk associated with keeping the items in stock and could relate to damage, shelf life, theft, etc. \n",
    "- oe_constraint\n",
    "- **ppap_risk** : Short for Production Part Approval Process, it is a risk reduction process which is used as a risk classification and qualification process which is used to determine whether a production run will produce parts with consistency and repeatability. It is done prior to product release\n",
    "- **stop_auto_buy** : Has the auto buy for the product, which was back ordered, cancelled.\n",
    "- rev_stop\n",
    "\n",
    "**TARGET FEATURE** : went_on_backorder - Whether an items was backordered or not"
   ]
  },
  {
   "cell_type": "markdown",
   "id": "c72bbfff",
   "metadata": {},
   "source": [
    "### Loading the Logger"
   ]
  },
  {
   "cell_type": "code",
   "execution_count": 1,
   "id": "ab906e4c",
   "metadata": {},
   "outputs": [
    {
     "name": "stderr",
     "output_type": "stream",
     "text": [
      "2021-10-04 10:19:19 INFO-New file\n"
     ]
    }
   ],
   "source": [
    "import logging\n",
    "\n",
    "logger = logging.getLogger()\n",
    "logger.setLevel(logging.INFO)\n",
    "\n",
    "fileHandler = logging.FileHandler(\"Logging.txt\")\n",
    "fileHandler.setLevel(logging.INFO)\n",
    "\n",
    "consoleHandler = logging.StreamHandler()\n",
    "consoleHandler.setLevel(logging.INFO)\n",
    "\n",
    "formatter = logging.Formatter('%(asctime)s %(levelname)s-%(message)s',datefmt='%Y-%m-%d %H:%M:%S')\n",
    "\n",
    "fileHandler.setFormatter(formatter)\n",
    "consoleHandler.setFormatter(formatter)\n",
    "\n",
    "logger.addHandler(fileHandler)\n",
    "logger.addHandler(consoleHandler)\n",
    "\n",
    "logger.info(\"New file\")"
   ]
  },
  {
   "cell_type": "markdown",
   "id": "d3d5223c",
   "metadata": {},
   "source": [
    "### Importing the Pre-requisite Packages"
   ]
  },
  {
   "cell_type": "code",
   "execution_count": 2,
   "id": "f96e7f64",
   "metadata": {},
   "outputs": [
    {
     "name": "stderr",
     "output_type": "stream",
     "text": [
      "2021-10-04 10:19:25 INFO-All pre-requisite packages imported For Data Preparation\n"
     ]
    }
   ],
   "source": [
    "# import sagemaker\n",
    "# import boto3\n",
    "# from sagemaker.amazon.amazon_estimator import logging, get_image_uri\n",
    "# from sagemaker.session import s3_input,Session\n",
    "\n",
    "import pandas as pd\n",
    "import numpy as np\n",
    "import seaborn as sns\n",
    "import matplotlib.pyplot as plt\n",
    "import plotly.express as exp\n",
    "import warnings\n",
    "import pickle\n",
    "warnings.filterwarnings('ignore')\n",
    "logger.info(\"All pre-requisite packages imported For Data Preparation\")"
   ]
  },
  {
   "cell_type": "markdown",
   "id": "b1cfbbde",
   "metadata": {},
   "source": [
    "# Data Preparation"
   ]
  },
  {
   "cell_type": "code",
   "execution_count": 3,
   "id": "3ba2de91",
   "metadata": {},
   "outputs": [],
   "source": [
    "X = pd.read_csv(\"Xsample.csv\")\n",
    "y = pd.read_csv(\"Ysample.csv\")\n",
    "y.replace({\"No\":0,\"Yes\":1},inplace=True)\n"
   ]
  },
  {
   "cell_type": "code",
   "execution_count": 4,
   "id": "051cb8dd",
   "metadata": {},
   "outputs": [
    {
     "data": {
      "text/plain": [
       "(1687860, 17)"
      ]
     },
     "execution_count": 4,
     "metadata": {},
     "output_type": "execute_result"
    }
   ],
   "source": [
    "X.shape"
   ]
  },
  {
   "cell_type": "code",
   "execution_count": 5,
   "id": "9d796bcf",
   "metadata": {},
   "outputs": [
    {
     "data": {
      "text/plain": [
       "(1687860, 2)"
      ]
     },
     "execution_count": 5,
     "metadata": {},
     "output_type": "execute_result"
    }
   ],
   "source": [
    "y.shape"
   ]
  },
  {
   "cell_type": "code",
   "execution_count": 6,
   "id": "a8cb0fd2",
   "metadata": {},
   "outputs": [
    {
     "name": "stderr",
     "output_type": "stream",
     "text": [
      "2021-10-04 10:19:29 INFO-Dropped unnamed column created and the stock keeping unit feature\n"
     ]
    }
   ],
   "source": [
    "X.drop([\"Unnamed: 0\",\"sku\"],axis=1,inplace=True)\n",
    "y.drop(\"Unnamed: 0\",axis=1,inplace=True)\n",
    "logger.info(\"Dropped unnamed column created and the stock keeping unit feature\")"
   ]
  },
  {
   "cell_type": "code",
   "execution_count": 7,
   "id": "f5ba1b39",
   "metadata": {},
   "outputs": [],
   "source": [
    "from sklearn.impute import SimpleImputer\n",
    "from sklearn.preprocessing import StandardScaler, OneHotEncoder, LabelEncoder, OrdinalEncoder,PowerTransformer\n",
    "from sklearn.model_selection import train_test_split"
   ]
  },
  {
   "cell_type": "markdown",
   "id": "70d2007e",
   "metadata": {},
   "source": [
    "### NOTE - \n",
    "\n",
    "- We noted at the end of EDA that the imbalance in the target classes needs to be corrected. Due to a very high ratio difference between  backorders and non backorders , we have decided to undersample the non backorders\n",
    "\n",
    "- However, since this project is going to be deployed on a large scale basis, we need to take care of the data leakage issue to maintain model generalizability and performance across train, test and unseen data passed by user.\n",
    "\n",
    "- For this we will first split the data into train and test samples, perform required data preparation across the samples and combine them and then undersample. We do this so that we dont apply the fit methods on the entire data and apply fit on the train and transform the test samples.\n",
    "\n",
    "- Following undersample, we will again split into train and test for model building."
   ]
  },
  {
   "cell_type": "markdown",
   "id": "37403833",
   "metadata": {},
   "source": [
    "## Splitting the data into train and test for preprocessing"
   ]
  },
  {
   "cell_type": "code",
   "execution_count": 8,
   "id": "4aae98a9",
   "metadata": {},
   "outputs": [
    {
     "name": "stderr",
     "output_type": "stream",
     "text": [
      "2021-10-04 10:19:29 INFO-Splitting Data into train and test samples\n"
     ]
    }
   ],
   "source": [
    "logger.info(\"Splitting Data into train and test samples\")\n",
    "Xtrain,Xtest,ytrain,ytest = train_test_split(X,y,test_size=0.30,random_state=0,stratify=y)"
   ]
  },
  {
   "cell_type": "markdown",
   "id": "232b85c1",
   "metadata": {},
   "source": [
    "## Treating the Missing Values"
   ]
  },
  {
   "cell_type": "code",
   "execution_count": 9,
   "id": "5dea78c0",
   "metadata": {},
   "outputs": [
    {
     "data": {
      "text/plain": [
       "5.9678273925901095"
      ]
     },
     "execution_count": 9,
     "metadata": {},
     "output_type": "execute_result"
    }
   ],
   "source": [
    "Xtrain.lead_time.isnull().sum() / len(Xtrain) * 100"
   ]
  },
  {
   "cell_type": "code",
   "execution_count": 10,
   "id": "633dc6dc",
   "metadata": {},
   "outputs": [
    {
     "data": {
      "text/plain": [
       "8.0     477850\n",
       "2.0     236227\n",
       "12.0    139608\n",
       "4.0      89957\n",
       "9.0      86555\n",
       "52.0     21147\n",
       "3.0      11333\n",
       "10.0      9829\n",
       "0.0       7334\n",
       "14.0      7216\n",
       "16.0      6190\n",
       "13.0      3799\n",
       "6.0       3779\n",
       "5.0       2839\n",
       "15.0      2670\n",
       "17.0      2634\n",
       "11.0       788\n",
       "20.0       282\n",
       "30.0       211\n",
       "18.0       153\n",
       "7.0        148\n",
       "22.0        96\n",
       "24.0        74\n",
       "26.0        74\n",
       "28.0        64\n",
       "40.0        36\n",
       "21.0        31\n",
       "35.0        25\n",
       "19.0        15\n",
       "1.0         14\n",
       "23.0         9\n",
       "25.0         5\n",
       "Name: lead_time, dtype: int64"
      ]
     },
     "execution_count": 10,
     "metadata": {},
     "output_type": "execute_result"
    }
   ],
   "source": [
    "Xtrain.lead_time.value_counts()"
   ]
  },
  {
   "cell_type": "markdown",
   "id": "60cb685c",
   "metadata": {},
   "source": [
    "Inferences about Missing values - \n",
    "\n",
    "- As observed during EDA, only 1 feature with missing values i.e lead time.\n",
    "- The % of missing values is around 6%.\n",
    "- The feature has many unique values, with around 50% being for 8 lead days.\n",
    "- We can use **simple imputer and replace values with most frequent** lead time, which is clearly 8 days."
   ]
  },
  {
   "cell_type": "code",
   "execution_count": 11,
   "id": "6601d6de",
   "metadata": {},
   "outputs": [],
   "source": [
    "SI = SimpleImputer(strategy=\"most_frequent\").fit(Xtrain.lead_time.values.reshape(-1,1))\n",
    "Xtrain.lead_time = SI.transform(Xtrain.lead_time.values.reshape(-1,1))\n",
    "Xtest.lead_time = SI.transform(Xtest.lead_time.values.reshape(-1,1))"
   ]
  },
  {
   "cell_type": "code",
   "execution_count": 12,
   "id": "8136eec3",
   "metadata": {},
   "outputs": [
    {
     "name": "stderr",
     "output_type": "stream",
     "text": [
      "2021-10-04 10:19:39 INFO-Missing Values In lead time replaced successfully\n"
     ]
    }
   ],
   "source": [
    "logger.info(\"Missing Values In lead time replaced successfully\")"
   ]
  },
  {
   "cell_type": "code",
   "execution_count": 13,
   "id": "8621b7cc",
   "metadata": {},
   "outputs": [
    {
     "name": "stdout",
     "output_type": "stream",
     "text": [
      "Missing values in training data for lead time: 0\n",
      "Missing values in testingdata for lead time: 0\n"
     ]
    }
   ],
   "source": [
    "print(\"Missing values in training data for lead time:\",Xtrain.lead_time.isnull().sum())\n",
    "print(\"Missing values in testingdata for lead time:\",Xtest.lead_time.isnull().sum())"
   ]
  },
  {
   "cell_type": "code",
   "execution_count": 14,
   "id": "80f75c9b",
   "metadata": {},
   "outputs": [
    {
     "name": "stdout",
     "output_type": "stream",
     "text": [
      "Number of records in train: 1181502\n",
      "Number of records in test: 506358\n",
      "Total records in train test combined: 1687860\n"
     ]
    }
   ],
   "source": [
    "print(\"Number of records in train:\",len(Xtrain))\n",
    "print(\"Number of records in test:\",len(Xtest))\n",
    "print(\"Total records in train test combined:\",len(X))"
   ]
  },
  {
   "cell_type": "markdown",
   "id": "8668a293",
   "metadata": {},
   "source": [
    "## Outlier Treatment"
   ]
  },
  {
   "cell_type": "code",
   "execution_count": 15,
   "id": "47171e99",
   "metadata": {},
   "outputs": [
    {
     "data": {
      "text/html": [
       "<div>\n",
       "<style scoped>\n",
       "    .dataframe tbody tr th:only-of-type {\n",
       "        vertical-align: middle;\n",
       "    }\n",
       "\n",
       "    .dataframe tbody tr th {\n",
       "        vertical-align: top;\n",
       "    }\n",
       "\n",
       "    .dataframe thead th {\n",
       "        text-align: right;\n",
       "    }\n",
       "</style>\n",
       "<table border=\"1\" class=\"dataframe\">\n",
       "  <thead>\n",
       "    <tr style=\"text-align: right;\">\n",
       "      <th></th>\n",
       "      <th>national_inv</th>\n",
       "      <th>lead_time</th>\n",
       "      <th>in_transit_qty</th>\n",
       "      <th>forecast_6_month</th>\n",
       "      <th>sales_6_month</th>\n",
       "      <th>min_bank</th>\n",
       "      <th>potential_issue</th>\n",
       "      <th>pieces_past_due</th>\n",
       "      <th>perf_6_month_avg</th>\n",
       "      <th>local_bo_qty</th>\n",
       "      <th>deck_risk</th>\n",
       "      <th>oe_constraint</th>\n",
       "      <th>ppap_risk</th>\n",
       "      <th>stop_auto_buy</th>\n",
       "      <th>rev_stop</th>\n",
       "    </tr>\n",
       "  </thead>\n",
       "  <tbody>\n",
       "    <tr>\n",
       "      <th>1314790</th>\n",
       "      <td>63.0</td>\n",
       "      <td>2.0</td>\n",
       "      <td>0.0</td>\n",
       "      <td>0.0</td>\n",
       "      <td>1.0</td>\n",
       "      <td>1.0</td>\n",
       "      <td>No</td>\n",
       "      <td>0.0</td>\n",
       "      <td>0.98</td>\n",
       "      <td>0.0</td>\n",
       "      <td>No</td>\n",
       "      <td>No</td>\n",
       "      <td>No</td>\n",
       "      <td>Yes</td>\n",
       "      <td>No</td>\n",
       "    </tr>\n",
       "    <tr>\n",
       "      <th>411419</th>\n",
       "      <td>30.0</td>\n",
       "      <td>9.0</td>\n",
       "      <td>0.0</td>\n",
       "      <td>0.0</td>\n",
       "      <td>9.0</td>\n",
       "      <td>0.0</td>\n",
       "      <td>No</td>\n",
       "      <td>0.0</td>\n",
       "      <td>1.00</td>\n",
       "      <td>0.0</td>\n",
       "      <td>No</td>\n",
       "      <td>No</td>\n",
       "      <td>No</td>\n",
       "      <td>Yes</td>\n",
       "      <td>No</td>\n",
       "    </tr>\n",
       "    <tr>\n",
       "      <th>1296471</th>\n",
       "      <td>483.0</td>\n",
       "      <td>4.0</td>\n",
       "      <td>14.0</td>\n",
       "      <td>398.0</td>\n",
       "      <td>577.0</td>\n",
       "      <td>37.0</td>\n",
       "      <td>No</td>\n",
       "      <td>0.0</td>\n",
       "      <td>0.73</td>\n",
       "      <td>0.0</td>\n",
       "      <td>No</td>\n",
       "      <td>No</td>\n",
       "      <td>No</td>\n",
       "      <td>Yes</td>\n",
       "      <td>No</td>\n",
       "    </tr>\n",
       "    <tr>\n",
       "      <th>893198</th>\n",
       "      <td>15.0</td>\n",
       "      <td>9.0</td>\n",
       "      <td>0.0</td>\n",
       "      <td>0.0</td>\n",
       "      <td>0.0</td>\n",
       "      <td>0.0</td>\n",
       "      <td>No</td>\n",
       "      <td>0.0</td>\n",
       "      <td>0.94</td>\n",
       "      <td>0.0</td>\n",
       "      <td>Yes</td>\n",
       "      <td>No</td>\n",
       "      <td>No</td>\n",
       "      <td>Yes</td>\n",
       "      <td>No</td>\n",
       "    </tr>\n",
       "    <tr>\n",
       "      <th>1332269</th>\n",
       "      <td>189.0</td>\n",
       "      <td>8.0</td>\n",
       "      <td>108.0</td>\n",
       "      <td>75.0</td>\n",
       "      <td>199.0</td>\n",
       "      <td>35.0</td>\n",
       "      <td>No</td>\n",
       "      <td>0.0</td>\n",
       "      <td>0.94</td>\n",
       "      <td>0.0</td>\n",
       "      <td>No</td>\n",
       "      <td>No</td>\n",
       "      <td>No</td>\n",
       "      <td>Yes</td>\n",
       "      <td>No</td>\n",
       "    </tr>\n",
       "  </tbody>\n",
       "</table>\n",
       "</div>"
      ],
      "text/plain": [
       "         national_inv  lead_time  in_transit_qty  forecast_6_month  \\\n",
       "1314790          63.0        2.0             0.0               0.0   \n",
       "411419           30.0        9.0             0.0               0.0   \n",
       "1296471         483.0        4.0            14.0             398.0   \n",
       "893198           15.0        9.0             0.0               0.0   \n",
       "1332269         189.0        8.0           108.0              75.0   \n",
       "\n",
       "         sales_6_month  min_bank potential_issue  pieces_past_due  \\\n",
       "1314790            1.0       1.0              No              0.0   \n",
       "411419             9.0       0.0              No              0.0   \n",
       "1296471          577.0      37.0              No              0.0   \n",
       "893198             0.0       0.0              No              0.0   \n",
       "1332269          199.0      35.0              No              0.0   \n",
       "\n",
       "         perf_6_month_avg  local_bo_qty deck_risk oe_constraint ppap_risk  \\\n",
       "1314790              0.98           0.0        No            No        No   \n",
       "411419               1.00           0.0        No            No        No   \n",
       "1296471              0.73           0.0        No            No        No   \n",
       "893198               0.94           0.0       Yes            No        No   \n",
       "1332269              0.94           0.0        No            No        No   \n",
       "\n",
       "        stop_auto_buy rev_stop  \n",
       "1314790           Yes       No  \n",
       "411419            Yes       No  \n",
       "1296471           Yes       No  \n",
       "893198            Yes       No  \n",
       "1332269           Yes       No  "
      ]
     },
     "execution_count": 15,
     "metadata": {},
     "output_type": "execute_result"
    }
   ],
   "source": [
    "Xtrain.head()"
   ]
  },
  {
   "cell_type": "code",
   "execution_count": 16,
   "id": "baa0cc06",
   "metadata": {},
   "outputs": [
    {
     "data": {
      "image/png": "[encoded data removed]",
      "text/plain": [
       "<Figure size 1080x1440 with 9 Axes>"
      ]
     },
     "metadata": {
      "needs_background": "light"
     },
     "output_type": "display_data"
    }
   ],
   "source": [
    "plt.figure(figsize=(15,20))\n",
    "for index,col in enumerate(Xtrain.select_dtypes(include=np.number).columns):\n",
    "    plt.subplot(8,2,index+1)\n",
    "    plt.tight_layout(pad=2,h_pad=2)\n",
    "    sns.boxplot(Xtrain[col])"
   ]
  },
  {
   "cell_type": "code",
   "execution_count": 17,
   "id": "e0840155",
   "metadata": {},
   "outputs": [
    {
     "name": "stdout",
     "output_type": "stream",
     "text": [
      "Skewness in the numerical values of Xtrain\n"
     ]
    },
    {
     "data": {
      "text/plain": [
       "national_inv        347.601037\n",
       "lead_time             4.694052\n",
       "in_transit_qty      154.232710\n",
       "forecast_6_month    138.734209\n",
       "sales_6_month       138.713382\n",
       "min_bank            126.405895\n",
       "pieces_past_due     388.548725\n",
       "perf_6_month_avg     -3.180772\n",
       "local_bo_qty        171.573102\n",
       "dtype: float64"
      ]
     },
     "execution_count": 17,
     "metadata": {},
     "output_type": "execute_result"
    }
   ],
   "source": [
    "print(\"Skewness in the numerical values of Xtrain\")\n",
    "Xtrain.skew()"
   ]
  },
  {
   "cell_type": "code",
   "execution_count": 18,
   "id": "e431aede",
   "metadata": {},
   "outputs": [
    {
     "name": "stdout",
     "output_type": "stream",
     "text": [
      "Skewness in the numerical values of Xtest\n"
     ]
    },
    {
     "data": {
      "text/plain": [
       "national_inv        320.817286\n",
       "lead_time             4.698560\n",
       "in_transit_qty      194.065631\n",
       "forecast_6_month    121.384881\n",
       "sales_6_month       131.870319\n",
       "min_bank            142.643572\n",
       "pieces_past_due     262.006714\n",
       "perf_6_month_avg     -3.180282\n",
       "local_bo_qty        142.425008\n",
       "dtype: float64"
      ]
     },
     "execution_count": 18,
     "metadata": {},
     "output_type": "execute_result"
    }
   ],
   "source": [
    "print(\"Skewness in the numerical values of Xtest\")\n",
    "Xtest.skew()"
   ]
  },
  {
   "cell_type": "markdown",
   "id": "dc187074",
   "metadata": {},
   "source": [
    "Inferences About Outliers - \n",
    "- We can observe that there are outliers in all numerical features.\n",
    "- Except performance of 6 month average, all other features are heavy positive skewness.\n",
    "- We can observe very extremely high outliers in all features.\n",
    "- The triple digit skewness values indicate the outliers are extreme.\n",
    "- We cannot cap such outliers due to being very far from whisker.\n",
    "- We cannot also drop the values as they are many in number.\n",
    "- Hence, we will use **power transformation to reduce the impact of outliers** since it can deal with both positive, negative and 0 value terms."
   ]
  },
  {
   "cell_type": "code",
   "execution_count": 19,
   "id": "1f9f2c55",
   "metadata": {},
   "outputs": [],
   "source": [
    "PT = PowerTransformer().fit(Xtrain.select_dtypes(include=np.number))\n",
    "\n",
    "Xtrain[Xtrain.select_dtypes(include=np.number).columns] = PT.transform(Xtrain.select_dtypes(include=np.number))\n",
    "Xtest[Xtest.select_dtypes(include=np.number).columns] = PT.transform(Xtest.select_dtypes(include=np.number))"
   ]
  },
  {
   "cell_type": "code",
   "execution_count": 20,
   "id": "688ecd28",
   "metadata": {},
   "outputs": [
    {
     "name": "stderr",
     "output_type": "stream",
     "text": [
      "2021-10-04 10:20:04 INFO-Numerical Features successfully transformed using Power transformation to treat the impact of extreme outliers\n"
     ]
    }
   ],
   "source": [
    "logger.info(\"Numerical Features successfully transformed using Power transformation to treat the impact of extreme outliers\")"
   ]
  },
  {
   "cell_type": "code",
   "execution_count": 21,
   "id": "3bcc14a4",
   "metadata": {},
   "outputs": [
    {
     "data": {
      "image/png": "[encoded data removed]",
      "text/plain": [
       "<Figure size 1080x1440 with 9 Axes>"
      ]
     },
     "metadata": {
      "needs_background": "light"
     },
     "output_type": "display_data"
    }
   ],
   "source": [
    "plt.figure(figsize=(15,20))\n",
    "for index,col in enumerate(Xtrain.select_dtypes(include=np.number).columns):\n",
    "    plt.subplot(8,2,index+1)\n",
    "    plt.tight_layout(pad=2,h_pad=2)\n",
    "    sns.boxplot(Xtrain[col])"
   ]
  },
  {
   "cell_type": "code",
   "execution_count": 22,
   "id": "26d36be5",
   "metadata": {},
   "outputs": [
    {
     "name": "stdout",
     "output_type": "stream",
     "text": [
      "Skewness in the numerical values of Xtrain after transformation\n"
     ]
    },
    {
     "data": {
      "text/plain": [
       "national_inv       -66.749326\n",
       "lead_time            0.018895\n",
       "in_transit_qty       1.532484\n",
       "forecast_6_month     0.785492\n",
       "sales_6_month        0.318216\n",
       "min_bank             0.633564\n",
       "pieces_past_due      7.961908\n",
       "perf_6_month_avg    -1.351009\n",
       "local_bo_qty         8.308472\n",
       "dtype: float64"
      ]
     },
     "execution_count": 22,
     "metadata": {},
     "output_type": "execute_result"
    }
   ],
   "source": [
    "print(\"Skewness in the numerical values of Xtrain after transformation\")\n",
    "Xtrain.skew()"
   ]
  },
  {
   "cell_type": "code",
   "execution_count": 23,
   "id": "02c218e2",
   "metadata": {},
   "outputs": [
    {
     "name": "stdout",
     "output_type": "stream",
     "text": [
      "Skewness in the numerical values of Xtest after transformation\n"
     ]
    },
    {
     "data": {
      "text/plain": [
       "national_inv       -148.494042\n",
       "lead_time             0.010282\n",
       "in_transit_qty        1.546821\n",
       "forecast_6_month      0.787866\n",
       "sales_6_month         0.320459\n",
       "min_bank              0.642570\n",
       "pieces_past_due       8.039214\n",
       "perf_6_month_avg     -1.348843\n",
       "local_bo_qty          8.367713\n",
       "dtype: float64"
      ]
     },
     "execution_count": 23,
     "metadata": {},
     "output_type": "execute_result"
    }
   ],
   "source": [
    "print(\"Skewness in the numerical values of Xtest after transformation\")\n",
    "Xtest.skew()"
   ]
  },
  {
   "cell_type": "code",
   "execution_count": 24,
   "id": "e7e00a70",
   "metadata": {},
   "outputs": [
    {
     "name": "stdout",
     "output_type": "stream",
     "text": [
      "Number of records in train: 1181502\n",
      "Number of records in test: 506358\n",
      "Total records in train test combined: 1687860\n"
     ]
    }
   ],
   "source": [
    "print(\"Number of records in train:\",len(Xtrain))\n",
    "print(\"Number of records in test:\",len(Xtest))\n",
    "print(\"Total records in train test combined:\",len(X))"
   ]
  },
  {
   "cell_type": "markdown",
   "id": "6f13fe27",
   "metadata": {},
   "source": [
    "## Encoding"
   ]
  },
  {
   "cell_type": "code",
   "execution_count": 25,
   "id": "73348c72",
   "metadata": {},
   "outputs": [
    {
     "data": {
      "text/plain": [
       "potential_issue    2\n",
       "deck_risk          2\n",
       "oe_constraint      2\n",
       "ppap_risk          2\n",
       "stop_auto_buy      2\n",
       "rev_stop           2\n",
       "dtype: int64"
      ]
     },
     "execution_count": 25,
     "metadata": {},
     "output_type": "execute_result"
    }
   ],
   "source": [
    "Xtrain.select_dtypes(include=np.object).nunique()"
   ]
  },
  {
   "cell_type": "markdown",
   "id": "d41fdee1",
   "metadata": {},
   "source": [
    "Inferences - \n",
    "\n",
    "- Based on the analysis of the number of categories in each feature, we observe that all categorical features have only 2 categories.\n",
    "- Due to less no. of unique categories, we can easily use **one hot encoding**"
   ]
  },
  {
   "cell_type": "code",
   "execution_count": 26,
   "id": "cab13487",
   "metadata": {},
   "outputs": [],
   "source": [
    "OHE = OneHotEncoder(drop=\"first\").fit(Xtrain.select_dtypes(include=np.object))\n",
    "\n",
    "Xtrain_OHE = pd.DataFrame(OHE.transform(Xtrain.select_dtypes(include=np.object)).toarray(),columns=OHE.get_feature_names(),index=Xtrain.index)\n",
    "Xtest_OHE = pd.DataFrame(OHE.transform(Xtest.select_dtypes(include=np.object)).toarray(),columns=OHE.get_feature_names(),index=Xtest.index)"
   ]
  },
  {
   "cell_type": "code",
   "execution_count": 27,
   "id": "d6f65968",
   "metadata": {},
   "outputs": [
    {
     "data": {
      "text/html": [
       "<div>\n",
       "<style scoped>\n",
       "    .dataframe tbody tr th:only-of-type {\n",
       "        vertical-align: middle;\n",
       "    }\n",
       "\n",
       "    .dataframe tbody tr th {\n",
       "        vertical-align: top;\n",
       "    }\n",
       "\n",
       "    .dataframe thead th {\n",
       "        text-align: right;\n",
       "    }\n",
       "</style>\n",
       "<table border=\"1\" class=\"dataframe\">\n",
       "  <thead>\n",
       "    <tr style=\"text-align: right;\">\n",
       "      <th></th>\n",
       "      <th>national_inv</th>\n",
       "      <th>lead_time</th>\n",
       "      <th>in_transit_qty</th>\n",
       "      <th>forecast_6_month</th>\n",
       "      <th>sales_6_month</th>\n",
       "      <th>min_bank</th>\n",
       "      <th>potential_issue</th>\n",
       "      <th>pieces_past_due</th>\n",
       "      <th>perf_6_month_avg</th>\n",
       "      <th>local_bo_qty</th>\n",
       "      <th>deck_risk</th>\n",
       "      <th>oe_constraint</th>\n",
       "      <th>ppap_risk</th>\n",
       "      <th>stop_auto_buy</th>\n",
       "      <th>rev_stop</th>\n",
       "    </tr>\n",
       "  </thead>\n",
       "  <tbody>\n",
       "    <tr>\n",
       "      <th>1314790</th>\n",
       "      <td>-0.035304</td>\n",
       "      <td>-1.515638</td>\n",
       "      <td>-0.501005</td>\n",
       "      <td>-0.716707</td>\n",
       "      <td>-0.491927</td>\n",
       "      <td>0.120353</td>\n",
       "      <td>No</td>\n",
       "      <td>-0.123677</td>\n",
       "      <td>0.877671</td>\n",
       "      <td>-0.118664</td>\n",
       "      <td>No</td>\n",
       "      <td>No</td>\n",
       "      <td>No</td>\n",
       "      <td>Yes</td>\n",
       "      <td>No</td>\n",
       "    </tr>\n",
       "    <tr>\n",
       "      <th>411419</th>\n",
       "      <td>-0.050881</td>\n",
       "      <td>0.489817</td>\n",
       "      <td>-0.501005</td>\n",
       "      <td>-0.716707</td>\n",
       "      <td>0.458275</td>\n",
       "      <td>-0.858639</td>\n",
       "      <td>No</td>\n",
       "      <td>-0.123677</td>\n",
       "      <td>0.964001</td>\n",
       "      <td>-0.118664</td>\n",
       "      <td>No</td>\n",
       "      <td>No</td>\n",
       "      <td>No</td>\n",
       "      <td>Yes</td>\n",
       "      <td>No</td>\n",
       "    </tr>\n",
       "    <tr>\n",
       "      <th>1296471</th>\n",
       "      <td>0.091714</td>\n",
       "      <td>-0.682611</td>\n",
       "      <td>2.107086</td>\n",
       "      <td>1.695437</td>\n",
       "      <td>1.605824</td>\n",
       "      <td>1.609888</td>\n",
       "      <td>No</td>\n",
       "      <td>-0.123677</td>\n",
       "      <td>-0.060324</td>\n",
       "      <td>-0.118664</td>\n",
       "      <td>No</td>\n",
       "      <td>No</td>\n",
       "      <td>No</td>\n",
       "      <td>Yes</td>\n",
       "      <td>No</td>\n",
       "    </tr>\n",
       "    <tr>\n",
       "      <th>893198</th>\n",
       "      <td>-0.059466</td>\n",
       "      <td>0.489817</td>\n",
       "      <td>-0.501005</td>\n",
       "      <td>-0.716707</td>\n",
       "      <td>-1.049839</td>\n",
       "      <td>-0.858639</td>\n",
       "      <td>No</td>\n",
       "      <td>-0.123677</td>\n",
       "      <td>0.710215</td>\n",
       "      <td>-0.118664</td>\n",
       "      <td>Yes</td>\n",
       "      <td>No</td>\n",
       "      <td>No</td>\n",
       "      <td>Yes</td>\n",
       "      <td>No</td>\n",
       "    </tr>\n",
       "    <tr>\n",
       "      <th>1332269</th>\n",
       "      <td>0.010444</td>\n",
       "      <td>0.308412</td>\n",
       "      <td>2.160862</td>\n",
       "      <td>1.543047</td>\n",
       "      <td>1.416252</td>\n",
       "      <td>1.600473</td>\n",
       "      <td>No</td>\n",
       "      <td>-0.123677</td>\n",
       "      <td>0.710215</td>\n",
       "      <td>-0.118664</td>\n",
       "      <td>No</td>\n",
       "      <td>No</td>\n",
       "      <td>No</td>\n",
       "      <td>Yes</td>\n",
       "      <td>No</td>\n",
       "    </tr>\n",
       "  </tbody>\n",
       "</table>\n",
       "</div>"
      ],
      "text/plain": [
       "         national_inv  lead_time  in_transit_qty  forecast_6_month  \\\n",
       "1314790     -0.035304  -1.515638       -0.501005         -0.716707   \n",
       "411419      -0.050881   0.489817       -0.501005         -0.716707   \n",
       "1296471      0.091714  -0.682611        2.107086          1.695437   \n",
       "893198      -0.059466   0.489817       -0.501005         -0.716707   \n",
       "1332269      0.010444   0.308412        2.160862          1.543047   \n",
       "\n",
       "         sales_6_month  min_bank potential_issue  pieces_past_due  \\\n",
       "1314790      -0.491927  0.120353              No        -0.123677   \n",
       "411419        0.458275 -0.858639              No        -0.123677   \n",
       "1296471       1.605824  1.609888              No        -0.123677   \n",
       "893198       -1.049839 -0.858639              No        -0.123677   \n",
       "1332269       1.416252  1.600473              No        -0.123677   \n",
       "\n",
       "         perf_6_month_avg  local_bo_qty deck_risk oe_constraint ppap_risk  \\\n",
       "1314790          0.877671     -0.118664        No            No        No   \n",
       "411419           0.964001     -0.118664        No            No        No   \n",
       "1296471         -0.060324     -0.118664        No            No        No   \n",
       "893198           0.710215     -0.118664       Yes            No        No   \n",
       "1332269          0.710215     -0.118664        No            No        No   \n",
       "\n",
       "        stop_auto_buy rev_stop  \n",
       "1314790           Yes       No  \n",
       "411419            Yes       No  \n",
       "1296471           Yes       No  \n",
       "893198            Yes       No  \n",
       "1332269           Yes       No  "
      ]
     },
     "execution_count": 27,
     "metadata": {},
     "output_type": "execute_result"
    }
   ],
   "source": [
    "Xtrain.head()"
   ]
  },
  {
   "cell_type": "code",
   "execution_count": 28,
   "id": "a7fb7704",
   "metadata": {},
   "outputs": [
    {
     "data": {
      "text/html": [
       "<div>\n",
       "<style scoped>\n",
       "    .dataframe tbody tr th:only-of-type {\n",
       "        vertical-align: middle;\n",
       "    }\n",
       "\n",
       "    .dataframe tbody tr th {\n",
       "        vertical-align: top;\n",
       "    }\n",
       "\n",
       "    .dataframe thead th {\n",
       "        text-align: right;\n",
       "    }\n",
       "</style>\n",
       "<table border=\"1\" class=\"dataframe\">\n",
       "  <thead>\n",
       "    <tr style=\"text-align: right;\">\n",
       "      <th></th>\n",
       "      <th>x0_Yes</th>\n",
       "      <th>x1_Yes</th>\n",
       "      <th>x2_Yes</th>\n",
       "      <th>x3_Yes</th>\n",
       "      <th>x4_Yes</th>\n",
       "      <th>x5_Yes</th>\n",
       "    </tr>\n",
       "  </thead>\n",
       "  <tbody>\n",
       "    <tr>\n",
       "      <th>1314790</th>\n",
       "      <td>0.0</td>\n",
       "      <td>0.0</td>\n",
       "      <td>0.0</td>\n",
       "      <td>0.0</td>\n",
       "      <td>1.0</td>\n",
       "      <td>0.0</td>\n",
       "    </tr>\n",
       "    <tr>\n",
       "      <th>411419</th>\n",
       "      <td>0.0</td>\n",
       "      <td>0.0</td>\n",
       "      <td>0.0</td>\n",
       "      <td>0.0</td>\n",
       "      <td>1.0</td>\n",
       "      <td>0.0</td>\n",
       "    </tr>\n",
       "    <tr>\n",
       "      <th>1296471</th>\n",
       "      <td>0.0</td>\n",
       "      <td>0.0</td>\n",
       "      <td>0.0</td>\n",
       "      <td>0.0</td>\n",
       "      <td>1.0</td>\n",
       "      <td>0.0</td>\n",
       "    </tr>\n",
       "    <tr>\n",
       "      <th>893198</th>\n",
       "      <td>0.0</td>\n",
       "      <td>1.0</td>\n",
       "      <td>0.0</td>\n",
       "      <td>0.0</td>\n",
       "      <td>1.0</td>\n",
       "      <td>0.0</td>\n",
       "    </tr>\n",
       "    <tr>\n",
       "      <th>1332269</th>\n",
       "      <td>0.0</td>\n",
       "      <td>0.0</td>\n",
       "      <td>0.0</td>\n",
       "      <td>0.0</td>\n",
       "      <td>1.0</td>\n",
       "      <td>0.0</td>\n",
       "    </tr>\n",
       "  </tbody>\n",
       "</table>\n",
       "</div>"
      ],
      "text/plain": [
       "         x0_Yes  x1_Yes  x2_Yes  x3_Yes  x4_Yes  x5_Yes\n",
       "1314790     0.0     0.0     0.0     0.0     1.0     0.0\n",
       "411419      0.0     0.0     0.0     0.0     1.0     0.0\n",
       "1296471     0.0     0.0     0.0     0.0     1.0     0.0\n",
       "893198      0.0     1.0     0.0     0.0     1.0     0.0\n",
       "1332269     0.0     0.0     0.0     0.0     1.0     0.0"
      ]
     },
     "execution_count": 28,
     "metadata": {},
     "output_type": "execute_result"
    }
   ],
   "source": [
    "Xtrain_OHE.head()"
   ]
  },
  {
   "cell_type": "code",
   "execution_count": 29,
   "id": "f9470800",
   "metadata": {},
   "outputs": [],
   "source": [
    "Xtrain = Xtrain.merge(Xtrain_OHE,left_index=True,right_index=True)\n",
    "Xtest = Xtest.merge(Xtest_OHE,left_index=True,right_index=True)"
   ]
  },
  {
   "cell_type": "code",
   "execution_count": 30,
   "id": "555be7e2",
   "metadata": {},
   "outputs": [
    {
     "name": "stdout",
     "output_type": "stream",
     "text": [
      "Number of records in train: 1181502\n",
      "Number of records in test: 506358\n",
      "Total records in train test combined: 1687860\n"
     ]
    }
   ],
   "source": [
    "print(\"Number of records in train:\",len(Xtrain))\n",
    "print(\"Number of records in test:\",len(Xtest))\n",
    "print(\"Total records in train test combined:\",len(X))"
   ]
  },
  {
   "cell_type": "code",
   "execution_count": 31,
   "id": "d3419f1c",
   "metadata": {},
   "outputs": [
    {
     "data": {
      "text/plain": [
       "Index(['national_inv', 'lead_time', 'in_transit_qty', 'forecast_6_month',\n",
       "       'sales_6_month', 'min_bank', 'potential_issue', 'pieces_past_due',\n",
       "       'perf_6_month_avg', 'local_bo_qty', 'deck_risk', 'oe_constraint',\n",
       "       'ppap_risk', 'stop_auto_buy', 'rev_stop', 'x0_Yes', 'x1_Yes', 'x2_Yes',\n",
       "       'x3_Yes', 'x4_Yes', 'x5_Yes'],\n",
       "      dtype='object')"
      ]
     },
     "execution_count": 31,
     "metadata": {},
     "output_type": "execute_result"
    }
   ],
   "source": [
    "Xtrain.columns"
   ]
  },
  {
   "cell_type": "code",
   "execution_count": 32,
   "id": "ec6dc59e",
   "metadata": {},
   "outputs": [
    {
     "data": {
      "text/html": [
       "<div>\n",
       "<style scoped>\n",
       "    .dataframe tbody tr th:only-of-type {\n",
       "        vertical-align: middle;\n",
       "    }\n",
       "\n",
       "    .dataframe tbody tr th {\n",
       "        vertical-align: top;\n",
       "    }\n",
       "\n",
       "    .dataframe thead th {\n",
       "        text-align: right;\n",
       "    }\n",
       "</style>\n",
       "<table border=\"1\" class=\"dataframe\">\n",
       "  <thead>\n",
       "    <tr style=\"text-align: right;\">\n",
       "      <th></th>\n",
       "      <th>national_inv</th>\n",
       "      <th>lead_time</th>\n",
       "      <th>in_transit_qty</th>\n",
       "      <th>forecast_6_month</th>\n",
       "      <th>sales_6_month</th>\n",
       "      <th>min_bank</th>\n",
       "      <th>potential_issue</th>\n",
       "      <th>pieces_past_due</th>\n",
       "      <th>perf_6_month_avg</th>\n",
       "      <th>local_bo_qty</th>\n",
       "      <th>...</th>\n",
       "      <th>oe_constraint</th>\n",
       "      <th>ppap_risk</th>\n",
       "      <th>stop_auto_buy</th>\n",
       "      <th>rev_stop</th>\n",
       "      <th>x0_Yes</th>\n",
       "      <th>x1_Yes</th>\n",
       "      <th>x2_Yes</th>\n",
       "      <th>x3_Yes</th>\n",
       "      <th>x4_Yes</th>\n",
       "      <th>x5_Yes</th>\n",
       "    </tr>\n",
       "  </thead>\n",
       "  <tbody>\n",
       "    <tr>\n",
       "      <th>1314790</th>\n",
       "      <td>-0.035304</td>\n",
       "      <td>-1.515638</td>\n",
       "      <td>-0.501005</td>\n",
       "      <td>-0.716707</td>\n",
       "      <td>-0.491927</td>\n",
       "      <td>0.120353</td>\n",
       "      <td>No</td>\n",
       "      <td>-0.123677</td>\n",
       "      <td>0.877671</td>\n",
       "      <td>-0.118664</td>\n",
       "      <td>...</td>\n",
       "      <td>No</td>\n",
       "      <td>No</td>\n",
       "      <td>Yes</td>\n",
       "      <td>No</td>\n",
       "      <td>0.0</td>\n",
       "      <td>0.0</td>\n",
       "      <td>0.0</td>\n",
       "      <td>0.0</td>\n",
       "      <td>1.0</td>\n",
       "      <td>0.0</td>\n",
       "    </tr>\n",
       "    <tr>\n",
       "      <th>411419</th>\n",
       "      <td>-0.050881</td>\n",
       "      <td>0.489817</td>\n",
       "      <td>-0.501005</td>\n",
       "      <td>-0.716707</td>\n",
       "      <td>0.458275</td>\n",
       "      <td>-0.858639</td>\n",
       "      <td>No</td>\n",
       "      <td>-0.123677</td>\n",
       "      <td>0.964001</td>\n",
       "      <td>-0.118664</td>\n",
       "      <td>...</td>\n",
       "      <td>No</td>\n",
       "      <td>No</td>\n",
       "      <td>Yes</td>\n",
       "      <td>No</td>\n",
       "      <td>0.0</td>\n",
       "      <td>0.0</td>\n",
       "      <td>0.0</td>\n",
       "      <td>0.0</td>\n",
       "      <td>1.0</td>\n",
       "      <td>0.0</td>\n",
       "    </tr>\n",
       "    <tr>\n",
       "      <th>1296471</th>\n",
       "      <td>0.091714</td>\n",
       "      <td>-0.682611</td>\n",
       "      <td>2.107086</td>\n",
       "      <td>1.695437</td>\n",
       "      <td>1.605824</td>\n",
       "      <td>1.609888</td>\n",
       "      <td>No</td>\n",
       "      <td>-0.123677</td>\n",
       "      <td>-0.060324</td>\n",
       "      <td>-0.118664</td>\n",
       "      <td>...</td>\n",
       "      <td>No</td>\n",
       "      <td>No</td>\n",
       "      <td>Yes</td>\n",
       "      <td>No</td>\n",
       "      <td>0.0</td>\n",
       "      <td>0.0</td>\n",
       "      <td>0.0</td>\n",
       "      <td>0.0</td>\n",
       "      <td>1.0</td>\n",
       "      <td>0.0</td>\n",
       "    </tr>\n",
       "    <tr>\n",
       "      <th>893198</th>\n",
       "      <td>-0.059466</td>\n",
       "      <td>0.489817</td>\n",
       "      <td>-0.501005</td>\n",
       "      <td>-0.716707</td>\n",
       "      <td>-1.049839</td>\n",
       "      <td>-0.858639</td>\n",
       "      <td>No</td>\n",
       "      <td>-0.123677</td>\n",
       "      <td>0.710215</td>\n",
       "      <td>-0.118664</td>\n",
       "      <td>...</td>\n",
       "      <td>No</td>\n",
       "      <td>No</td>\n",
       "      <td>Yes</td>\n",
       "      <td>No</td>\n",
       "      <td>0.0</td>\n",
       "      <td>1.0</td>\n",
       "      <td>0.0</td>\n",
       "      <td>0.0</td>\n",
       "      <td>1.0</td>\n",
       "      <td>0.0</td>\n",
       "    </tr>\n",
       "    <tr>\n",
       "      <th>1332269</th>\n",
       "      <td>0.010444</td>\n",
       "      <td>0.308412</td>\n",
       "      <td>2.160862</td>\n",
       "      <td>1.543047</td>\n",
       "      <td>1.416252</td>\n",
       "      <td>1.600473</td>\n",
       "      <td>No</td>\n",
       "      <td>-0.123677</td>\n",
       "      <td>0.710215</td>\n",
       "      <td>-0.118664</td>\n",
       "      <td>...</td>\n",
       "      <td>No</td>\n",
       "      <td>No</td>\n",
       "      <td>Yes</td>\n",
       "      <td>No</td>\n",
       "      <td>0.0</td>\n",
       "      <td>0.0</td>\n",
       "      <td>0.0</td>\n",
       "      <td>0.0</td>\n",
       "      <td>1.0</td>\n",
       "      <td>0.0</td>\n",
       "    </tr>\n",
       "  </tbody>\n",
       "</table>\n",
       "<p>5 rows × 21 columns</p>\n",
       "</div>"
      ],
      "text/plain": [
       "         national_inv  lead_time  in_transit_qty  forecast_6_month  \\\n",
       "1314790     -0.035304  -1.515638       -0.501005         -0.716707   \n",
       "411419      -0.050881   0.489817       -0.501005         -0.716707   \n",
       "1296471      0.091714  -0.682611        2.107086          1.695437   \n",
       "893198      -0.059466   0.489817       -0.501005         -0.716707   \n",
       "1332269      0.010444   0.308412        2.160862          1.543047   \n",
       "\n",
       "         sales_6_month  min_bank potential_issue  pieces_past_due  \\\n",
       "1314790      -0.491927  0.120353              No        -0.123677   \n",
       "411419        0.458275 -0.858639              No        -0.123677   \n",
       "1296471       1.605824  1.609888              No        -0.123677   \n",
       "893198       -1.049839 -0.858639              No        -0.123677   \n",
       "1332269       1.416252  1.600473              No        -0.123677   \n",
       "\n",
       "         perf_6_month_avg  local_bo_qty  ... oe_constraint ppap_risk  \\\n",
       "1314790          0.877671     -0.118664  ...            No        No   \n",
       "411419           0.964001     -0.118664  ...            No        No   \n",
       "1296471         -0.060324     -0.118664  ...            No        No   \n",
       "893198           0.710215     -0.118664  ...            No        No   \n",
       "1332269          0.710215     -0.118664  ...            No        No   \n",
       "\n",
       "        stop_auto_buy rev_stop x0_Yes  x1_Yes  x2_Yes  x3_Yes  x4_Yes  x5_Yes  \n",
       "1314790           Yes       No    0.0     0.0     0.0     0.0     1.0     0.0  \n",
       "411419            Yes       No    0.0     0.0     0.0     0.0     1.0     0.0  \n",
       "1296471           Yes       No    0.0     0.0     0.0     0.0     1.0     0.0  \n",
       "893198            Yes       No    0.0     1.0     0.0     0.0     1.0     0.0  \n",
       "1332269           Yes       No    0.0     0.0     0.0     0.0     1.0     0.0  \n",
       "\n",
       "[5 rows x 21 columns]"
      ]
     },
     "execution_count": 32,
     "metadata": {},
     "output_type": "execute_result"
    }
   ],
   "source": [
    "Xtrain.head()"
   ]
  },
  {
   "cell_type": "code",
   "execution_count": 33,
   "id": "37ce0ec8",
   "metadata": {},
   "outputs": [
    {
     "data": {
      "text/html": [
       "<div>\n",
       "<style scoped>\n",
       "    .dataframe tbody tr th:only-of-type {\n",
       "        vertical-align: middle;\n",
       "    }\n",
       "\n",
       "    .dataframe tbody tr th {\n",
       "        vertical-align: top;\n",
       "    }\n",
       "\n",
       "    .dataframe thead th {\n",
       "        text-align: right;\n",
       "    }\n",
       "</style>\n",
       "<table border=\"1\" class=\"dataframe\">\n",
       "  <thead>\n",
       "    <tr style=\"text-align: right;\">\n",
       "      <th></th>\n",
       "      <th>went_on_backorder</th>\n",
       "    </tr>\n",
       "  </thead>\n",
       "  <tbody>\n",
       "    <tr>\n",
       "      <th>1314790</th>\n",
       "      <td>0</td>\n",
       "    </tr>\n",
       "    <tr>\n",
       "      <th>411419</th>\n",
       "      <td>0</td>\n",
       "    </tr>\n",
       "    <tr>\n",
       "      <th>1296471</th>\n",
       "      <td>0</td>\n",
       "    </tr>\n",
       "    <tr>\n",
       "      <th>893198</th>\n",
       "      <td>0</td>\n",
       "    </tr>\n",
       "    <tr>\n",
       "      <th>1332269</th>\n",
       "      <td>0</td>\n",
       "    </tr>\n",
       "  </tbody>\n",
       "</table>\n",
       "</div>"
      ],
      "text/plain": [
       "         went_on_backorder\n",
       "1314790                  0\n",
       "411419                   0\n",
       "1296471                  0\n",
       "893198                   0\n",
       "1332269                  0"
      ]
     },
     "execution_count": 33,
     "metadata": {},
     "output_type": "execute_result"
    }
   ],
   "source": [
    "ytrain.head()"
   ]
  },
  {
   "cell_type": "code",
   "execution_count": 34,
   "id": "e8157907",
   "metadata": {},
   "outputs": [],
   "source": [
    "Xtrain.drop([\"ppap_risk\",\"stop_auto_buy\",\"deck_risk\",\"potential_issue\",\"oe_constraint\",\"rev_stop\"],axis=1,inplace=True)\n",
    "Xtest.drop([\"ppap_risk\",\"stop_auto_buy\",\"deck_risk\",\"potential_issue\",\"oe_constraint\",\"rev_stop\"],axis=1,inplace=True)"
   ]
  },
  {
   "cell_type": "code",
   "execution_count": 35,
   "id": "86bf0767",
   "metadata": {},
   "outputs": [
    {
     "name": "stderr",
     "output_type": "stream",
     "text": [
      "2021-10-04 10:20:13 INFO-Categorical Features successfully one hot encoded\n"
     ]
    }
   ],
   "source": [
    "logger.info(\"Categorical Features successfully one hot encoded\")"
   ]
  },
  {
   "cell_type": "markdown",
   "id": "4cb22be0",
   "metadata": {},
   "source": [
    "## Undersampling the Majority Class i.e No Backorders"
   ]
  },
  {
   "cell_type": "markdown",
   "id": "5adb2783",
   "metadata": {},
   "source": [
    "#### Note - \n",
    "- Since the majority and minority classes have a drastic ratio of close to approx 99 to 1, we need to undersampe the majority classes in order to improve performance of model.\n",
    "- However, in order to retain a little bit of the real life scenario in terms of balance of backorders and non backorders, we will maintain a ratio between the two in such as way that the ratio is around 25:75 or 1:3.\n",
    "- To undersample, we will use **NearMiss technique**."
   ]
  },
  {
   "cell_type": "code",
   "execution_count": 36,
   "id": "121516d1",
   "metadata": {},
   "outputs": [],
   "source": [
    "nums = ['national_inv', 'lead_time', 'in_transit_qty', 'forecast_6_month',\n",
    "       'sales_6_month', 'min_bank', 'pieces_past_due', 'perf_6_month_avg',\n",
    "       'local_bo_qty']"
   ]
  },
  {
   "cell_type": "code",
   "execution_count": 37,
   "id": "f316f53d",
   "metadata": {},
   "outputs": [
    {
     "name": "stderr",
     "output_type": "stream",
     "text": [
      "2021-10-04 10:20:13 INFO-Combined processed train and test samples into 1 bigger sample for undersampling\n"
     ]
    }
   ],
   "source": [
    "X = Xtrain.append(Xtest)\n",
    "y = ytrain.append(ytest)\n",
    "logger.info(\"Combined processed train and test samples into 1 bigger sample for undersampling\")\n"
   ]
  },
  {
   "cell_type": "code",
   "execution_count": 38,
   "id": "351a94da",
   "metadata": {},
   "outputs": [
    {
     "data": {
      "text/html": [
       "<div>\n",
       "<style scoped>\n",
       "    .dataframe tbody tr th:only-of-type {\n",
       "        vertical-align: middle;\n",
       "    }\n",
       "\n",
       "    .dataframe tbody tr th {\n",
       "        vertical-align: top;\n",
       "    }\n",
       "\n",
       "    .dataframe thead th {\n",
       "        text-align: right;\n",
       "    }\n",
       "</style>\n",
       "<table border=\"1\" class=\"dataframe\">\n",
       "  <thead>\n",
       "    <tr style=\"text-align: right;\">\n",
       "      <th></th>\n",
       "      <th>national_inv</th>\n",
       "      <th>lead_time</th>\n",
       "      <th>in_transit_qty</th>\n",
       "      <th>forecast_6_month</th>\n",
       "      <th>sales_6_month</th>\n",
       "      <th>min_bank</th>\n",
       "      <th>pieces_past_due</th>\n",
       "      <th>perf_6_month_avg</th>\n",
       "      <th>local_bo_qty</th>\n",
       "      <th>x0_Yes</th>\n",
       "      <th>x1_Yes</th>\n",
       "      <th>x2_Yes</th>\n",
       "      <th>x3_Yes</th>\n",
       "      <th>x4_Yes</th>\n",
       "      <th>x5_Yes</th>\n",
       "    </tr>\n",
       "  </thead>\n",
       "  <tbody>\n",
       "    <tr>\n",
       "      <th>1314790</th>\n",
       "      <td>-0.035304</td>\n",
       "      <td>-1.515638</td>\n",
       "      <td>-0.501005</td>\n",
       "      <td>-0.716707</td>\n",
       "      <td>-0.491927</td>\n",
       "      <td>0.120353</td>\n",
       "      <td>-0.123677</td>\n",
       "      <td>0.877671</td>\n",
       "      <td>-0.118664</td>\n",
       "      <td>0.0</td>\n",
       "      <td>0.0</td>\n",
       "      <td>0.0</td>\n",
       "      <td>0.0</td>\n",
       "      <td>1.0</td>\n",
       "      <td>0.0</td>\n",
       "    </tr>\n",
       "    <tr>\n",
       "      <th>411419</th>\n",
       "      <td>-0.050881</td>\n",
       "      <td>0.489817</td>\n",
       "      <td>-0.501005</td>\n",
       "      <td>-0.716707</td>\n",
       "      <td>0.458275</td>\n",
       "      <td>-0.858639</td>\n",
       "      <td>-0.123677</td>\n",
       "      <td>0.964001</td>\n",
       "      <td>-0.118664</td>\n",
       "      <td>0.0</td>\n",
       "      <td>0.0</td>\n",
       "      <td>0.0</td>\n",
       "      <td>0.0</td>\n",
       "      <td>1.0</td>\n",
       "      <td>0.0</td>\n",
       "    </tr>\n",
       "    <tr>\n",
       "      <th>1296471</th>\n",
       "      <td>0.091714</td>\n",
       "      <td>-0.682611</td>\n",
       "      <td>2.107086</td>\n",
       "      <td>1.695437</td>\n",
       "      <td>1.605824</td>\n",
       "      <td>1.609888</td>\n",
       "      <td>-0.123677</td>\n",
       "      <td>-0.060324</td>\n",
       "      <td>-0.118664</td>\n",
       "      <td>0.0</td>\n",
       "      <td>0.0</td>\n",
       "      <td>0.0</td>\n",
       "      <td>0.0</td>\n",
       "      <td>1.0</td>\n",
       "      <td>0.0</td>\n",
       "    </tr>\n",
       "    <tr>\n",
       "      <th>893198</th>\n",
       "      <td>-0.059466</td>\n",
       "      <td>0.489817</td>\n",
       "      <td>-0.501005</td>\n",
       "      <td>-0.716707</td>\n",
       "      <td>-1.049839</td>\n",
       "      <td>-0.858639</td>\n",
       "      <td>-0.123677</td>\n",
       "      <td>0.710215</td>\n",
       "      <td>-0.118664</td>\n",
       "      <td>0.0</td>\n",
       "      <td>1.0</td>\n",
       "      <td>0.0</td>\n",
       "      <td>0.0</td>\n",
       "      <td>1.0</td>\n",
       "      <td>0.0</td>\n",
       "    </tr>\n",
       "    <tr>\n",
       "      <th>1332269</th>\n",
       "      <td>0.010444</td>\n",
       "      <td>0.308412</td>\n",
       "      <td>2.160862</td>\n",
       "      <td>1.543047</td>\n",
       "      <td>1.416252</td>\n",
       "      <td>1.600473</td>\n",
       "      <td>-0.123677</td>\n",
       "      <td>0.710215</td>\n",
       "      <td>-0.118664</td>\n",
       "      <td>0.0</td>\n",
       "      <td>0.0</td>\n",
       "      <td>0.0</td>\n",
       "      <td>0.0</td>\n",
       "      <td>1.0</td>\n",
       "      <td>0.0</td>\n",
       "    </tr>\n",
       "  </tbody>\n",
       "</table>\n",
       "</div>"
      ],
      "text/plain": [
       "         national_inv  lead_time  in_transit_qty  forecast_6_month  \\\n",
       "1314790     -0.035304  -1.515638       -0.501005         -0.716707   \n",
       "411419      -0.050881   0.489817       -0.501005         -0.716707   \n",
       "1296471      0.091714  -0.682611        2.107086          1.695437   \n",
       "893198      -0.059466   0.489817       -0.501005         -0.716707   \n",
       "1332269      0.010444   0.308412        2.160862          1.543047   \n",
       "\n",
       "         sales_6_month  min_bank  pieces_past_due  perf_6_month_avg  \\\n",
       "1314790      -0.491927  0.120353        -0.123677          0.877671   \n",
       "411419        0.458275 -0.858639        -0.123677          0.964001   \n",
       "1296471       1.605824  1.609888        -0.123677         -0.060324   \n",
       "893198       -1.049839 -0.858639        -0.123677          0.710215   \n",
       "1332269       1.416252  1.600473        -0.123677          0.710215   \n",
       "\n",
       "         local_bo_qty  x0_Yes  x1_Yes  x2_Yes  x3_Yes  x4_Yes  x5_Yes  \n",
       "1314790     -0.118664     0.0     0.0     0.0     0.0     1.0     0.0  \n",
       "411419      -0.118664     0.0     0.0     0.0     0.0     1.0     0.0  \n",
       "1296471     -0.118664     0.0     0.0     0.0     0.0     1.0     0.0  \n",
       "893198      -0.118664     0.0     1.0     0.0     0.0     1.0     0.0  \n",
       "1332269     -0.118664     0.0     0.0     0.0     0.0     1.0     0.0  "
      ]
     },
     "execution_count": 38,
     "metadata": {},
     "output_type": "execute_result"
    }
   ],
   "source": [
    "Xtrain.head()"
   ]
  },
  {
   "cell_type": "code",
   "execution_count": 39,
   "id": "2ea770d6",
   "metadata": {},
   "outputs": [
    {
     "data": {
      "text/html": [
       "<div>\n",
       "<style scoped>\n",
       "    .dataframe tbody tr th:only-of-type {\n",
       "        vertical-align: middle;\n",
       "    }\n",
       "\n",
       "    .dataframe tbody tr th {\n",
       "        vertical-align: top;\n",
       "    }\n",
       "\n",
       "    .dataframe thead th {\n",
       "        text-align: right;\n",
       "    }\n",
       "</style>\n",
       "<table border=\"1\" class=\"dataframe\">\n",
       "  <thead>\n",
       "    <tr style=\"text-align: right;\">\n",
       "      <th></th>\n",
       "      <th>national_inv</th>\n",
       "      <th>lead_time</th>\n",
       "      <th>in_transit_qty</th>\n",
       "      <th>forecast_6_month</th>\n",
       "      <th>sales_6_month</th>\n",
       "      <th>min_bank</th>\n",
       "      <th>pieces_past_due</th>\n",
       "      <th>perf_6_month_avg</th>\n",
       "      <th>local_bo_qty</th>\n",
       "      <th>x0_Yes</th>\n",
       "      <th>x1_Yes</th>\n",
       "      <th>x2_Yes</th>\n",
       "      <th>x3_Yes</th>\n",
       "      <th>x4_Yes</th>\n",
       "      <th>x5_Yes</th>\n",
       "    </tr>\n",
       "  </thead>\n",
       "  <tbody>\n",
       "    <tr>\n",
       "      <th>1314790</th>\n",
       "      <td>-0.035304</td>\n",
       "      <td>-1.515638</td>\n",
       "      <td>-0.501005</td>\n",
       "      <td>-0.716707</td>\n",
       "      <td>-0.491927</td>\n",
       "      <td>0.120353</td>\n",
       "      <td>-0.123677</td>\n",
       "      <td>0.877671</td>\n",
       "      <td>-0.118664</td>\n",
       "      <td>0.0</td>\n",
       "      <td>0.0</td>\n",
       "      <td>0.0</td>\n",
       "      <td>0.0</td>\n",
       "      <td>1.0</td>\n",
       "      <td>0.0</td>\n",
       "    </tr>\n",
       "    <tr>\n",
       "      <th>411419</th>\n",
       "      <td>-0.050881</td>\n",
       "      <td>0.489817</td>\n",
       "      <td>-0.501005</td>\n",
       "      <td>-0.716707</td>\n",
       "      <td>0.458275</td>\n",
       "      <td>-0.858639</td>\n",
       "      <td>-0.123677</td>\n",
       "      <td>0.964001</td>\n",
       "      <td>-0.118664</td>\n",
       "      <td>0.0</td>\n",
       "      <td>0.0</td>\n",
       "      <td>0.0</td>\n",
       "      <td>0.0</td>\n",
       "      <td>1.0</td>\n",
       "      <td>0.0</td>\n",
       "    </tr>\n",
       "    <tr>\n",
       "      <th>1296471</th>\n",
       "      <td>0.091714</td>\n",
       "      <td>-0.682611</td>\n",
       "      <td>2.107086</td>\n",
       "      <td>1.695437</td>\n",
       "      <td>1.605824</td>\n",
       "      <td>1.609888</td>\n",
       "      <td>-0.123677</td>\n",
       "      <td>-0.060324</td>\n",
       "      <td>-0.118664</td>\n",
       "      <td>0.0</td>\n",
       "      <td>0.0</td>\n",
       "      <td>0.0</td>\n",
       "      <td>0.0</td>\n",
       "      <td>1.0</td>\n",
       "      <td>0.0</td>\n",
       "    </tr>\n",
       "    <tr>\n",
       "      <th>893198</th>\n",
       "      <td>-0.059466</td>\n",
       "      <td>0.489817</td>\n",
       "      <td>-0.501005</td>\n",
       "      <td>-0.716707</td>\n",
       "      <td>-1.049839</td>\n",
       "      <td>-0.858639</td>\n",
       "      <td>-0.123677</td>\n",
       "      <td>0.710215</td>\n",
       "      <td>-0.118664</td>\n",
       "      <td>0.0</td>\n",
       "      <td>1.0</td>\n",
       "      <td>0.0</td>\n",
       "      <td>0.0</td>\n",
       "      <td>1.0</td>\n",
       "      <td>0.0</td>\n",
       "    </tr>\n",
       "    <tr>\n",
       "      <th>1332269</th>\n",
       "      <td>0.010444</td>\n",
       "      <td>0.308412</td>\n",
       "      <td>2.160862</td>\n",
       "      <td>1.543047</td>\n",
       "      <td>1.416252</td>\n",
       "      <td>1.600473</td>\n",
       "      <td>-0.123677</td>\n",
       "      <td>0.710215</td>\n",
       "      <td>-0.118664</td>\n",
       "      <td>0.0</td>\n",
       "      <td>0.0</td>\n",
       "      <td>0.0</td>\n",
       "      <td>0.0</td>\n",
       "      <td>1.0</td>\n",
       "      <td>0.0</td>\n",
       "    </tr>\n",
       "  </tbody>\n",
       "</table>\n",
       "</div>"
      ],
      "text/plain": [
       "         national_inv  lead_time  in_transit_qty  forecast_6_month  \\\n",
       "1314790     -0.035304  -1.515638       -0.501005         -0.716707   \n",
       "411419      -0.050881   0.489817       -0.501005         -0.716707   \n",
       "1296471      0.091714  -0.682611        2.107086          1.695437   \n",
       "893198      -0.059466   0.489817       -0.501005         -0.716707   \n",
       "1332269      0.010444   0.308412        2.160862          1.543047   \n",
       "\n",
       "         sales_6_month  min_bank  pieces_past_due  perf_6_month_avg  \\\n",
       "1314790      -0.491927  0.120353        -0.123677          0.877671   \n",
       "411419        0.458275 -0.858639        -0.123677          0.964001   \n",
       "1296471       1.605824  1.609888        -0.123677         -0.060324   \n",
       "893198       -1.049839 -0.858639        -0.123677          0.710215   \n",
       "1332269       1.416252  1.600473        -0.123677          0.710215   \n",
       "\n",
       "         local_bo_qty  x0_Yes  x1_Yes  x2_Yes  x3_Yes  x4_Yes  x5_Yes  \n",
       "1314790     -0.118664     0.0     0.0     0.0     0.0     1.0     0.0  \n",
       "411419      -0.118664     0.0     0.0     0.0     0.0     1.0     0.0  \n",
       "1296471     -0.118664     0.0     0.0     0.0     0.0     1.0     0.0  \n",
       "893198      -0.118664     0.0     1.0     0.0     0.0     1.0     0.0  \n",
       "1332269     -0.118664     0.0     0.0     0.0     0.0     1.0     0.0  "
      ]
     },
     "execution_count": 39,
     "metadata": {},
     "output_type": "execute_result"
    }
   ],
   "source": [
    "X.head()"
   ]
  },
  {
   "cell_type": "code",
   "execution_count": 40,
   "id": "e72ced9f",
   "metadata": {},
   "outputs": [
    {
     "data": {
      "text/html": [
       "<div>\n",
       "<style scoped>\n",
       "    .dataframe tbody tr th:only-of-type {\n",
       "        vertical-align: middle;\n",
       "    }\n",
       "\n",
       "    .dataframe tbody tr th {\n",
       "        vertical-align: top;\n",
       "    }\n",
       "\n",
       "    .dataframe thead th {\n",
       "        text-align: right;\n",
       "    }\n",
       "</style>\n",
       "<table border=\"1\" class=\"dataframe\">\n",
       "  <thead>\n",
       "    <tr style=\"text-align: right;\">\n",
       "      <th></th>\n",
       "      <th>national_inv</th>\n",
       "      <th>lead_time</th>\n",
       "      <th>in_transit_qty</th>\n",
       "      <th>forecast_6_month</th>\n",
       "      <th>sales_6_month</th>\n",
       "      <th>min_bank</th>\n",
       "      <th>pieces_past_due</th>\n",
       "      <th>perf_6_month_avg</th>\n",
       "      <th>local_bo_qty</th>\n",
       "      <th>x0_Yes</th>\n",
       "      <th>x1_Yes</th>\n",
       "      <th>x2_Yes</th>\n",
       "      <th>x3_Yes</th>\n",
       "      <th>x4_Yes</th>\n",
       "      <th>x5_Yes</th>\n",
       "    </tr>\n",
       "  </thead>\n",
       "  <tbody>\n",
       "    <tr>\n",
       "      <th>146560</th>\n",
       "      <td>-0.053579</td>\n",
       "      <td>-1.515638</td>\n",
       "      <td>-0.501005</td>\n",
       "      <td>1.494662</td>\n",
       "      <td>0.946017</td>\n",
       "      <td>0.899052</td>\n",
       "      <td>-0.123677</td>\n",
       "      <td>0.248210</td>\n",
       "      <td>-0.118664</td>\n",
       "      <td>0.0</td>\n",
       "      <td>1.0</td>\n",
       "      <td>0.0</td>\n",
       "      <td>0.0</td>\n",
       "      <td>1.0</td>\n",
       "      <td>0.0</td>\n",
       "    </tr>\n",
       "    <tr>\n",
       "      <th>453990</th>\n",
       "      <td>-0.071556</td>\n",
       "      <td>0.308412</td>\n",
       "      <td>-0.501005</td>\n",
       "      <td>0.049201</td>\n",
       "      <td>-1.049839</td>\n",
       "      <td>0.120353</td>\n",
       "      <td>-0.123677</td>\n",
       "      <td>-0.808003</td>\n",
       "      <td>-0.118664</td>\n",
       "      <td>0.0</td>\n",
       "      <td>0.0</td>\n",
       "      <td>0.0</td>\n",
       "      <td>0.0</td>\n",
       "      <td>1.0</td>\n",
       "      <td>0.0</td>\n",
       "    </tr>\n",
       "    <tr>\n",
       "      <th>1191947</th>\n",
       "      <td>-0.070334</td>\n",
       "      <td>0.308412</td>\n",
       "      <td>-0.501005</td>\n",
       "      <td>-0.716707</td>\n",
       "      <td>-1.049839</td>\n",
       "      <td>-0.858639</td>\n",
       "      <td>-0.123677</td>\n",
       "      <td>0.920617</td>\n",
       "      <td>-0.118664</td>\n",
       "      <td>0.0</td>\n",
       "      <td>0.0</td>\n",
       "      <td>0.0</td>\n",
       "      <td>0.0</td>\n",
       "      <td>1.0</td>\n",
       "      <td>0.0</td>\n",
       "    </tr>\n",
       "    <tr>\n",
       "      <th>2059</th>\n",
       "      <td>0.004279</td>\n",
       "      <td>0.308412</td>\n",
       "      <td>-0.501005</td>\n",
       "      <td>-0.716707</td>\n",
       "      <td>1.056314</td>\n",
       "      <td>1.249210</td>\n",
       "      <td>-0.123677</td>\n",
       "      <td>0.471779</td>\n",
       "      <td>-0.118664</td>\n",
       "      <td>0.0</td>\n",
       "      <td>0.0</td>\n",
       "      <td>0.0</td>\n",
       "      <td>0.0</td>\n",
       "      <td>1.0</td>\n",
       "      <td>0.0</td>\n",
       "    </tr>\n",
       "    <tr>\n",
       "      <th>854998</th>\n",
       "      <td>0.145673</td>\n",
       "      <td>0.308412</td>\n",
       "      <td>2.128799</td>\n",
       "      <td>-0.716707</td>\n",
       "      <td>1.422316</td>\n",
       "      <td>1.622583</td>\n",
       "      <td>-0.123677</td>\n",
       "      <td>0.920617</td>\n",
       "      <td>-0.118664</td>\n",
       "      <td>0.0</td>\n",
       "      <td>0.0</td>\n",
       "      <td>0.0</td>\n",
       "      <td>0.0</td>\n",
       "      <td>1.0</td>\n",
       "      <td>0.0</td>\n",
       "    </tr>\n",
       "  </tbody>\n",
       "</table>\n",
       "</div>"
      ],
      "text/plain": [
       "         national_inv  lead_time  in_transit_qty  forecast_6_month  \\\n",
       "146560      -0.053579  -1.515638       -0.501005          1.494662   \n",
       "453990      -0.071556   0.308412       -0.501005          0.049201   \n",
       "1191947     -0.070334   0.308412       -0.501005         -0.716707   \n",
       "2059         0.004279   0.308412       -0.501005         -0.716707   \n",
       "854998       0.145673   0.308412        2.128799         -0.716707   \n",
       "\n",
       "         sales_6_month  min_bank  pieces_past_due  perf_6_month_avg  \\\n",
       "146560        0.946017  0.899052        -0.123677          0.248210   \n",
       "453990       -1.049839  0.120353        -0.123677         -0.808003   \n",
       "1191947      -1.049839 -0.858639        -0.123677          0.920617   \n",
       "2059          1.056314  1.249210        -0.123677          0.471779   \n",
       "854998        1.422316  1.622583        -0.123677          0.920617   \n",
       "\n",
       "         local_bo_qty  x0_Yes  x1_Yes  x2_Yes  x3_Yes  x4_Yes  x5_Yes  \n",
       "146560      -0.118664     0.0     1.0     0.0     0.0     1.0     0.0  \n",
       "453990      -0.118664     0.0     0.0     0.0     0.0     1.0     0.0  \n",
       "1191947     -0.118664     0.0     0.0     0.0     0.0     1.0     0.0  \n",
       "2059        -0.118664     0.0     0.0     0.0     0.0     1.0     0.0  \n",
       "854998      -0.118664     0.0     0.0     0.0     0.0     1.0     0.0  "
      ]
     },
     "execution_count": 40,
     "metadata": {},
     "output_type": "execute_result"
    }
   ],
   "source": [
    "X.tail()"
   ]
  },
  {
   "cell_type": "code",
   "execution_count": 41,
   "id": "dd306cba",
   "metadata": {},
   "outputs": [
    {
     "data": {
      "text/html": [
       "<div>\n",
       "<style scoped>\n",
       "    .dataframe tbody tr th:only-of-type {\n",
       "        vertical-align: middle;\n",
       "    }\n",
       "\n",
       "    .dataframe tbody tr th {\n",
       "        vertical-align: top;\n",
       "    }\n",
       "\n",
       "    .dataframe thead th {\n",
       "        text-align: right;\n",
       "    }\n",
       "</style>\n",
       "<table border=\"1\" class=\"dataframe\">\n",
       "  <thead>\n",
       "    <tr style=\"text-align: right;\">\n",
       "      <th></th>\n",
       "      <th>national_inv</th>\n",
       "      <th>lead_time</th>\n",
       "      <th>in_transit_qty</th>\n",
       "      <th>forecast_6_month</th>\n",
       "      <th>sales_6_month</th>\n",
       "      <th>min_bank</th>\n",
       "      <th>pieces_past_due</th>\n",
       "      <th>perf_6_month_avg</th>\n",
       "      <th>local_bo_qty</th>\n",
       "      <th>x0_Yes</th>\n",
       "      <th>x1_Yes</th>\n",
       "      <th>x2_Yes</th>\n",
       "      <th>x3_Yes</th>\n",
       "      <th>x4_Yes</th>\n",
       "      <th>x5_Yes</th>\n",
       "    </tr>\n",
       "  </thead>\n",
       "  <tbody>\n",
       "    <tr>\n",
       "      <th>146560</th>\n",
       "      <td>-0.053579</td>\n",
       "      <td>-1.515638</td>\n",
       "      <td>-0.501005</td>\n",
       "      <td>1.494662</td>\n",
       "      <td>0.946017</td>\n",
       "      <td>0.899052</td>\n",
       "      <td>-0.123677</td>\n",
       "      <td>0.248210</td>\n",
       "      <td>-0.118664</td>\n",
       "      <td>0.0</td>\n",
       "      <td>1.0</td>\n",
       "      <td>0.0</td>\n",
       "      <td>0.0</td>\n",
       "      <td>1.0</td>\n",
       "      <td>0.0</td>\n",
       "    </tr>\n",
       "    <tr>\n",
       "      <th>453990</th>\n",
       "      <td>-0.071556</td>\n",
       "      <td>0.308412</td>\n",
       "      <td>-0.501005</td>\n",
       "      <td>0.049201</td>\n",
       "      <td>-1.049839</td>\n",
       "      <td>0.120353</td>\n",
       "      <td>-0.123677</td>\n",
       "      <td>-0.808003</td>\n",
       "      <td>-0.118664</td>\n",
       "      <td>0.0</td>\n",
       "      <td>0.0</td>\n",
       "      <td>0.0</td>\n",
       "      <td>0.0</td>\n",
       "      <td>1.0</td>\n",
       "      <td>0.0</td>\n",
       "    </tr>\n",
       "    <tr>\n",
       "      <th>1191947</th>\n",
       "      <td>-0.070334</td>\n",
       "      <td>0.308412</td>\n",
       "      <td>-0.501005</td>\n",
       "      <td>-0.716707</td>\n",
       "      <td>-1.049839</td>\n",
       "      <td>-0.858639</td>\n",
       "      <td>-0.123677</td>\n",
       "      <td>0.920617</td>\n",
       "      <td>-0.118664</td>\n",
       "      <td>0.0</td>\n",
       "      <td>0.0</td>\n",
       "      <td>0.0</td>\n",
       "      <td>0.0</td>\n",
       "      <td>1.0</td>\n",
       "      <td>0.0</td>\n",
       "    </tr>\n",
       "    <tr>\n",
       "      <th>2059</th>\n",
       "      <td>0.004279</td>\n",
       "      <td>0.308412</td>\n",
       "      <td>-0.501005</td>\n",
       "      <td>-0.716707</td>\n",
       "      <td>1.056314</td>\n",
       "      <td>1.249210</td>\n",
       "      <td>-0.123677</td>\n",
       "      <td>0.471779</td>\n",
       "      <td>-0.118664</td>\n",
       "      <td>0.0</td>\n",
       "      <td>0.0</td>\n",
       "      <td>0.0</td>\n",
       "      <td>0.0</td>\n",
       "      <td>1.0</td>\n",
       "      <td>0.0</td>\n",
       "    </tr>\n",
       "    <tr>\n",
       "      <th>854998</th>\n",
       "      <td>0.145673</td>\n",
       "      <td>0.308412</td>\n",
       "      <td>2.128799</td>\n",
       "      <td>-0.716707</td>\n",
       "      <td>1.422316</td>\n",
       "      <td>1.622583</td>\n",
       "      <td>-0.123677</td>\n",
       "      <td>0.920617</td>\n",
       "      <td>-0.118664</td>\n",
       "      <td>0.0</td>\n",
       "      <td>0.0</td>\n",
       "      <td>0.0</td>\n",
       "      <td>0.0</td>\n",
       "      <td>1.0</td>\n",
       "      <td>0.0</td>\n",
       "    </tr>\n",
       "  </tbody>\n",
       "</table>\n",
       "</div>"
      ],
      "text/plain": [
       "         national_inv  lead_time  in_transit_qty  forecast_6_month  \\\n",
       "146560      -0.053579  -1.515638       -0.501005          1.494662   \n",
       "453990      -0.071556   0.308412       -0.501005          0.049201   \n",
       "1191947     -0.070334   0.308412       -0.501005         -0.716707   \n",
       "2059         0.004279   0.308412       -0.501005         -0.716707   \n",
       "854998       0.145673   0.308412        2.128799         -0.716707   \n",
       "\n",
       "         sales_6_month  min_bank  pieces_past_due  perf_6_month_avg  \\\n",
       "146560        0.946017  0.899052        -0.123677          0.248210   \n",
       "453990       -1.049839  0.120353        -0.123677         -0.808003   \n",
       "1191947      -1.049839 -0.858639        -0.123677          0.920617   \n",
       "2059          1.056314  1.249210        -0.123677          0.471779   \n",
       "854998        1.422316  1.622583        -0.123677          0.920617   \n",
       "\n",
       "         local_bo_qty  x0_Yes  x1_Yes  x2_Yes  x3_Yes  x4_Yes  x5_Yes  \n",
       "146560      -0.118664     0.0     1.0     0.0     0.0     1.0     0.0  \n",
       "453990      -0.118664     0.0     0.0     0.0     0.0     1.0     0.0  \n",
       "1191947     -0.118664     0.0     0.0     0.0     0.0     1.0     0.0  \n",
       "2059        -0.118664     0.0     0.0     0.0     0.0     1.0     0.0  \n",
       "854998      -0.118664     0.0     0.0     0.0     0.0     1.0     0.0  "
      ]
     },
     "execution_count": 41,
     "metadata": {},
     "output_type": "execute_result"
    }
   ],
   "source": [
    "Xtest.tail()"
   ]
  },
  {
   "cell_type": "code",
   "execution_count": 42,
   "id": "c2be9c8b",
   "metadata": {},
   "outputs": [
    {
     "name": "stdout",
     "output_type": "stream",
     "text": [
      "Number of records in train: 1181502\n",
      "Number of records in test: 506358\n",
      "Total records in train test combined: 1687860\n"
     ]
    }
   ],
   "source": [
    "print(\"Number of records in train:\",len(Xtrain))\n",
    "print(\"Number of records in test:\",len(Xtest))\n",
    "print(\"Total records in train test combined:\",len(X))"
   ]
  },
  {
   "cell_type": "code",
   "execution_count": 43,
   "id": "d1ce242a",
   "metadata": {},
   "outputs": [
    {
     "name": "stderr",
     "output_type": "stream",
     "text": [
      "2021-10-04 10:20:14 INFO-Numerical features scaled for the purpose of undersampling\n"
     ]
    }
   ],
   "source": [
    "SC = StandardScaler().fit(X[list(nums)])\n",
    "X[list(nums)] = SC.transform(X[list(nums)])\n",
    "logger.info(\"Numerical features scaled for the purpose of undersampling\")\n"
   ]
  },
  {
   "cell_type": "code",
   "execution_count": 44,
   "id": "c8fcf816",
   "metadata": {},
   "outputs": [
    {
     "data": {
      "text/plain": [
       "(1181502, 15)"
      ]
     },
     "execution_count": 44,
     "metadata": {},
     "output_type": "execute_result"
    }
   ],
   "source": [
    "Xtrain.shape"
   ]
  },
  {
   "cell_type": "code",
   "execution_count": 45,
   "id": "13847f5d",
   "metadata": {},
   "outputs": [
    {
     "data": {
      "text/plain": [
       "(506358, 15)"
      ]
     },
     "execution_count": 45,
     "metadata": {},
     "output_type": "execute_result"
    }
   ],
   "source": [
    "Xtest.shape"
   ]
  },
  {
   "cell_type": "code",
   "execution_count": 46,
   "id": "bafa4e67",
   "metadata": {},
   "outputs": [
    {
     "name": "stdout",
     "output_type": "stream",
     "text": [
      "Requirement already satisfied: imblearn in /home/ec2-user/anaconda3/envs/python3/lib/python3.6/site-packages (0.0)\n",
      "Requirement already satisfied: imbalanced-learn in /home/ec2-user/anaconda3/envs/python3/lib/python3.6/site-packages (from imblearn) (0.8.1)\n",
      "Requirement already satisfied: numpy>=1.13.3 in /home/ec2-user/anaconda3/envs/python3/lib/python3.6/site-packages (from imbalanced-learn->imblearn) (1.19.5)\n",
      "Requirement already satisfied: joblib>=0.11 in /home/ec2-user/anaconda3/envs/python3/lib/python3.6/site-packages (from imbalanced-learn->imblearn) (1.0.1)\n",
      "Requirement already satisfied: scipy>=0.19.1 in /home/ec2-user/anaconda3/envs/python3/lib/python3.6/site-packages (from imbalanced-learn->imblearn) (1.5.3)\n",
      "Requirement already satisfied: scikit-learn>=0.24 in /home/ec2-user/anaconda3/envs/python3/lib/python3.6/site-packages (from imbalanced-learn->imblearn) (0.24.1)\n",
      "Requirement already satisfied: threadpoolctl>=2.0.0 in /home/ec2-user/anaconda3/envs/python3/lib/python3.6/site-packages (from scikit-learn>=0.24->imbalanced-learn->imblearn) (2.1.0)\n"
     ]
    }
   ],
   "source": [
    "! pip install imblearn"
   ]
  },
  {
   "cell_type": "code",
   "execution_count": 47,
   "id": "00f534b2",
   "metadata": {
    "scrolled": true
   },
   "outputs": [
    {
     "name": "stderr",
     "output_type": "stream",
     "text": [
      "2021-10-04 10:25:23 INFO-Majority Class undersampled to make it 3 times the count of minority class instances\n"
     ]
    }
   ],
   "source": [
    "from sklearn.model_selection import train_test_split\n",
    "from imblearn.under_sampling import NearMiss\n",
    "from collections import Counter\n",
    "\n",
    "NM = NearMiss(sampling_strategy=0.25)\n",
    "X_under , y_under = NM.fit_resample(X,y)\n",
    "logger.info(\"Majority Class undersampled to make it 3 times the count of minority class instances\")"
   ]
  },
  {
   "cell_type": "code",
   "execution_count": 48,
   "id": "c10e5f2d",
   "metadata": {},
   "outputs": [
    {
     "name": "stdout",
     "output_type": "stream",
     "text": [
      "befor Undersampling: {(0,): 1676567, (1,): 11293}\n",
      "After Undersampling using NearMiss technique {(0,): 45172, (1,): 11293}\n"
     ]
    }
   ],
   "source": [
    "print(f\"befor Undersampling: {y.value_counts().to_dict()}\")\n",
    "print(f\"After Undersampling using NearMiss technique {y_under.value_counts().to_dict()}\")"
   ]
  },
  {
   "cell_type": "code",
   "execution_count": 49,
   "id": "31c271fe",
   "metadata": {},
   "outputs": [],
   "source": [
    "X_under[list(nums)] = SC.inverse_transform(X_under[list(nums)])"
   ]
  },
  {
   "cell_type": "code",
   "execution_count": 50,
   "id": "f468417c",
   "metadata": {},
   "outputs": [
    {
     "data": {
      "text/html": [
       "<div>\n",
       "<style scoped>\n",
       "    .dataframe tbody tr th:only-of-type {\n",
       "        vertical-align: middle;\n",
       "    }\n",
       "\n",
       "    .dataframe tbody tr th {\n",
       "        vertical-align: top;\n",
       "    }\n",
       "\n",
       "    .dataframe thead th {\n",
       "        text-align: right;\n",
       "    }\n",
       "</style>\n",
       "<table border=\"1\" class=\"dataframe\">\n",
       "  <thead>\n",
       "    <tr style=\"text-align: right;\">\n",
       "      <th></th>\n",
       "      <th>national_inv</th>\n",
       "      <th>lead_time</th>\n",
       "      <th>in_transit_qty</th>\n",
       "      <th>forecast_6_month</th>\n",
       "      <th>sales_6_month</th>\n",
       "      <th>min_bank</th>\n",
       "      <th>pieces_past_due</th>\n",
       "      <th>perf_6_month_avg</th>\n",
       "      <th>local_bo_qty</th>\n",
       "      <th>x0_Yes</th>\n",
       "      <th>x1_Yes</th>\n",
       "      <th>x2_Yes</th>\n",
       "      <th>x3_Yes</th>\n",
       "      <th>x4_Yes</th>\n",
       "      <th>x5_Yes</th>\n",
       "    </tr>\n",
       "  </thead>\n",
       "  <tbody>\n",
       "    <tr>\n",
       "      <th>0</th>\n",
       "      <td>-0.071556</td>\n",
       "      <td>0.308412</td>\n",
       "      <td>-0.501005</td>\n",
       "      <td>-0.716707</td>\n",
       "      <td>-1.049839</td>\n",
       "      <td>-0.858639</td>\n",
       "      <td>-0.123677</td>\n",
       "      <td>0.920617</td>\n",
       "      <td>-0.118664</td>\n",
       "      <td>0.0</td>\n",
       "      <td>0.0</td>\n",
       "      <td>0.0</td>\n",
       "      <td>0.0</td>\n",
       "      <td>1.0</td>\n",
       "      <td>0.0</td>\n",
       "    </tr>\n",
       "    <tr>\n",
       "      <th>1</th>\n",
       "      <td>-0.071556</td>\n",
       "      <td>0.308412</td>\n",
       "      <td>-0.501005</td>\n",
       "      <td>-0.716707</td>\n",
       "      <td>-1.049839</td>\n",
       "      <td>-0.858639</td>\n",
       "      <td>-0.123677</td>\n",
       "      <td>-2.618379</td>\n",
       "      <td>-0.118664</td>\n",
       "      <td>0.0</td>\n",
       "      <td>0.0</td>\n",
       "      <td>0.0</td>\n",
       "      <td>0.0</td>\n",
       "      <td>1.0</td>\n",
       "      <td>0.0</td>\n",
       "    </tr>\n",
       "    <tr>\n",
       "      <th>2</th>\n",
       "      <td>-0.068315</td>\n",
       "      <td>0.308412</td>\n",
       "      <td>-0.501005</td>\n",
       "      <td>-0.716707</td>\n",
       "      <td>-1.049839</td>\n",
       "      <td>0.120353</td>\n",
       "      <td>-0.123677</td>\n",
       "      <td>0.877671</td>\n",
       "      <td>-0.118664</td>\n",
       "      <td>0.0</td>\n",
       "      <td>0.0</td>\n",
       "      <td>0.0</td>\n",
       "      <td>0.0</td>\n",
       "      <td>1.0</td>\n",
       "      <td>0.0</td>\n",
       "    </tr>\n",
       "    <tr>\n",
       "      <th>3</th>\n",
       "      <td>-0.071556</td>\n",
       "      <td>0.308412</td>\n",
       "      <td>-0.501005</td>\n",
       "      <td>-0.716707</td>\n",
       "      <td>-1.049839</td>\n",
       "      <td>-0.858639</td>\n",
       "      <td>-0.123677</td>\n",
       "      <td>-2.618379</td>\n",
       "      <td>-0.118664</td>\n",
       "      <td>0.0</td>\n",
       "      <td>0.0</td>\n",
       "      <td>0.0</td>\n",
       "      <td>0.0</td>\n",
       "      <td>1.0</td>\n",
       "      <td>0.0</td>\n",
       "    </tr>\n",
       "    <tr>\n",
       "      <th>4</th>\n",
       "      <td>-0.069277</td>\n",
       "      <td>0.308412</td>\n",
       "      <td>-0.501005</td>\n",
       "      <td>-0.716707</td>\n",
       "      <td>-1.049839</td>\n",
       "      <td>-0.858639</td>\n",
       "      <td>-0.123677</td>\n",
       "      <td>0.358166</td>\n",
       "      <td>-0.118664</td>\n",
       "      <td>0.0</td>\n",
       "      <td>0.0</td>\n",
       "      <td>0.0</td>\n",
       "      <td>0.0</td>\n",
       "      <td>1.0</td>\n",
       "      <td>0.0</td>\n",
       "    </tr>\n",
       "  </tbody>\n",
       "</table>\n",
       "</div>"
      ],
      "text/plain": [
       "   national_inv  lead_time  in_transit_qty  forecast_6_month  sales_6_month  \\\n",
       "0     -0.071556   0.308412       -0.501005         -0.716707      -1.049839   \n",
       "1     -0.071556   0.308412       -0.501005         -0.716707      -1.049839   \n",
       "2     -0.068315   0.308412       -0.501005         -0.716707      -1.049839   \n",
       "3     -0.071556   0.308412       -0.501005         -0.716707      -1.049839   \n",
       "4     -0.069277   0.308412       -0.501005         -0.716707      -1.049839   \n",
       "\n",
       "   min_bank  pieces_past_due  perf_6_month_avg  local_bo_qty  x0_Yes  x1_Yes  \\\n",
       "0 -0.858639        -0.123677          0.920617     -0.118664     0.0     0.0   \n",
       "1 -0.858639        -0.123677         -2.618379     -0.118664     0.0     0.0   \n",
       "2  0.120353        -0.123677          0.877671     -0.118664     0.0     0.0   \n",
       "3 -0.858639        -0.123677         -2.618379     -0.118664     0.0     0.0   \n",
       "4 -0.858639        -0.123677          0.358166     -0.118664     0.0     0.0   \n",
       "\n",
       "   x2_Yes  x3_Yes  x4_Yes  x5_Yes  \n",
       "0     0.0     0.0     1.0     0.0  \n",
       "1     0.0     0.0     1.0     0.0  \n",
       "2     0.0     0.0     1.0     0.0  \n",
       "3     0.0     0.0     1.0     0.0  \n",
       "4     0.0     0.0     1.0     0.0  "
      ]
     },
     "execution_count": 50,
     "metadata": {},
     "output_type": "execute_result"
    }
   ],
   "source": [
    "X_under.head()"
   ]
  },
  {
   "cell_type": "code",
   "execution_count": 51,
   "id": "0ddb179b",
   "metadata": {},
   "outputs": [],
   "source": [
    "X_under.to_csv(\"X_undersampled.csv\")\n",
    "y_under.to_csv(\"Y_undersampled.csv\")"
   ]
  },
  {
   "cell_type": "markdown",
   "id": "5f950707",
   "metadata": {},
   "source": [
    "## Splitting Into Train and Test for model building"
   ]
  },
  {
   "cell_type": "code",
   "execution_count": 52,
   "id": "2bf9b58a",
   "metadata": {},
   "outputs": [
    {
     "name": "stderr",
     "output_type": "stream",
     "text": [
      "2021-10-04 10:25:26 INFO-Data Split into train and test samples for model building\n"
     ]
    }
   ],
   "source": [
    "Xtrain,Xtest,ytrain,ytest = train_test_split(X_under,y_under,test_size=0.30,random_state=0,stratify=y_under)\n",
    "logger.info(\"Data Split into train and test samples for model building\")\n"
   ]
  },
  {
   "cell_type": "code",
   "execution_count": 53,
   "id": "48e61afd",
   "metadata": {},
   "outputs": [
    {
     "name": "stderr",
     "output_type": "stream",
     "text": [
      "2021-10-04 10:25:27 INFO-train and test samples saved for model building in script 3.\n"
     ]
    }
   ],
   "source": [
    "Xtrain.to_csv(\"xtrain.csv\")\n",
    "Xtest.to_csv(\"xtest.csv\")\n",
    "ytrain.to_csv(\"ytrain.csv\")\n",
    "ytest.to_csv(\"ytest.csv\")\n",
    "logger.info(\"train and test samples saved for model building in script 3.\")\n"
   ]
  },
  {
   "cell_type": "code",
   "execution_count": null,
   "id": "130abc9a",
   "metadata": {},
   "outputs": [],
   "source": []
  },
  {
   "cell_type": "code",
   "execution_count": null,
   "id": "a68a8361",
   "metadata": {},
   "outputs": [],
   "source": []
  }
 ],
 "metadata": {
  "kernelspec": {
   "display_name": "Python 3",
   "language": "python",
   "name": "python3"
  },
  "language_info": {
   "codemirror_mode": {
    "name": "ipython",
    "version": 3
   },
   "file_extension": ".py",
   "mimetype": "text/x-python",
   "name": "python",
   "nbconvert_exporter": "python",
   "pygments_lexer": "ipython3",
   "version": "3.8.8"
  }
 },
 "nbformat": 4,
 "nbformat_minor": 5
}
